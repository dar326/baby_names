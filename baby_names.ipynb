{
 "cells": [
  {
   "cell_type": "markdown",
   "metadata": {},
   "source": [
    "# Baby Names Analysis"
   ]
  },
  {
   "cell_type": "markdown",
   "metadata": {},
   "source": [
    "The goal of this project is to analyze the popularity of baby names in the US based on Social Security card applications. The name counts are grouped by year from 1910 to 2018. All 50 states plus the District of Colombia are represented with their own text file of data. There are 5 features in this data set: *state*, *sex*, *year*, *name*, *count*. In total, there are 6,028,151 records.\n",
    "\n",
    "There are 5 parts to this analysis: \n",
    "1. Top 10 Names\n",
    "1. Most Consistently Used Names\n",
    "1. Gender Differences in Naming\n",
    "1. Name Choice Forecasting\n",
    "1. State-specific Name Popularity"
   ]
  },
  {
   "cell_type": "markdown",
   "metadata": {},
   "source": [
    "This analysis will use the *pandas* library to put the data into a convenient format that will aid in the analyses performed. In addition, a number of utility functions provided by DataCamp's *dc_stat_think* library will be used which are useful for performing experiments using data. The imports for each are included below."
   ]
  },
  {
   "cell_type": "code",
   "execution_count": 1,
   "metadata": {},
   "outputs": [],
   "source": [
    "%matplotlib inline"
   ]
  },
  {
   "cell_type": "code",
   "execution_count": 2,
   "metadata": {},
   "outputs": [],
   "source": [
    "import pandas as pd\n",
    "import dc_stat_think as dcst\n",
    "import glob\n",
    "import matplotlib.pyplot as plt\n",
    "import seaborn as sns\n",
    "import numpy as np\n",
    "from pandas.plotting import autocorrelation_plot\n",
    "from statsmodels.tsa.stattools import kpss\n",
    "from sklearn.metrics import mean_squared_error\n",
    "from statsmodels.tsa.arima_model import ARIMA\n",
    "import random\n",
    "import warnings\n",
    "from scipy.stats import chisquare\n",
    "from sklearn.feature_extraction.text import TfidfTransformer"
   ]
  },
  {
   "cell_type": "code",
   "execution_count": 3,
   "metadata": {},
   "outputs": [],
   "source": [
    "# seed random number generator to ensure consistent results\n",
    "random.seed( 20 )"
   ]
  },
  {
   "cell_type": "code",
   "execution_count": 4,
   "metadata": {},
   "outputs": [],
   "source": [
    "# using Seaborn styling for visualizations\n",
    "sns.set(style=\"ticks\")\n",
    "sns.set(font_scale = 2)\n",
    "sns.set_style(\"darkgrid\")"
   ]
  },
  {
   "cell_type": "code",
   "execution_count": 5,
   "metadata": {},
   "outputs": [],
   "source": [
    "# suppress warnings\n",
    "warnings.simplefilter('ignore')"
   ]
  },
  {
   "cell_type": "markdown",
   "metadata": {},
   "source": [
    "Because the data is grouped into CSV files by state, pandas dataframes are created for each state and concatenated together to form one large dataframe for the analyses that follow."
   ]
  },
  {
   "cell_type": "code",
   "execution_count": 6,
   "metadata": {},
   "outputs": [],
   "source": [
    "# read in all state data\n",
    "df = pd.concat(\n",
    "                (\n",
    "                    pd.read_csv(\n",
    "                            filename, \n",
    "                            header=None,\n",
    "                            names = [\n",
    "                                \"state\",\n",
    "                                \"sex\",\n",
    "                                \"year\",\n",
    "                                \"name\",\n",
    "                                \"count\"\n",
    "                            ]\n",
    "                    ) for filename in glob.glob(\"namesbystate/*.TXT\")\n",
    "                )\n",
    ")  "
   ]
  },
  {
   "cell_type": "code",
   "execution_count": 7,
   "metadata": {},
   "outputs": [
    {
     "data": {
      "text/plain": [
       "(6028151, 5)"
      ]
     },
     "execution_count": 7,
     "metadata": {},
     "output_type": "execute_result"
    }
   ],
   "source": [
    "df.shape"
   ]
  },
  {
   "cell_type": "code",
   "execution_count": 8,
   "metadata": {},
   "outputs": [
    {
     "data": {
      "text/html": [
       "<div>\n",
       "<style scoped>\n",
       "    .dataframe tbody tr th:only-of-type {\n",
       "        vertical-align: middle;\n",
       "    }\n",
       "\n",
       "    .dataframe tbody tr th {\n",
       "        vertical-align: top;\n",
       "    }\n",
       "\n",
       "    .dataframe thead th {\n",
       "        text-align: right;\n",
       "    }\n",
       "</style>\n",
       "<table border=\"1\" class=\"dataframe\">\n",
       "  <thead>\n",
       "    <tr style=\"text-align: right;\">\n",
       "      <th></th>\n",
       "      <th>state</th>\n",
       "      <th>sex</th>\n",
       "      <th>year</th>\n",
       "      <th>name</th>\n",
       "      <th>count</th>\n",
       "    </tr>\n",
       "  </thead>\n",
       "  <tbody>\n",
       "    <tr>\n",
       "      <th>0</th>\n",
       "      <td>IN</td>\n",
       "      <td>F</td>\n",
       "      <td>1910</td>\n",
       "      <td>Mary</td>\n",
       "      <td>619</td>\n",
       "    </tr>\n",
       "    <tr>\n",
       "      <th>1</th>\n",
       "      <td>IN</td>\n",
       "      <td>F</td>\n",
       "      <td>1910</td>\n",
       "      <td>Helen</td>\n",
       "      <td>324</td>\n",
       "    </tr>\n",
       "    <tr>\n",
       "      <th>2</th>\n",
       "      <td>IN</td>\n",
       "      <td>F</td>\n",
       "      <td>1910</td>\n",
       "      <td>Ruth</td>\n",
       "      <td>238</td>\n",
       "    </tr>\n",
       "    <tr>\n",
       "      <th>3</th>\n",
       "      <td>IN</td>\n",
       "      <td>F</td>\n",
       "      <td>1910</td>\n",
       "      <td>Dorothy</td>\n",
       "      <td>215</td>\n",
       "    </tr>\n",
       "    <tr>\n",
       "      <th>4</th>\n",
       "      <td>IN</td>\n",
       "      <td>F</td>\n",
       "      <td>1910</td>\n",
       "      <td>Mildred</td>\n",
       "      <td>200</td>\n",
       "    </tr>\n",
       "  </tbody>\n",
       "</table>\n",
       "</div>"
      ],
      "text/plain": [
       "  state sex  year     name  count\n",
       "0    IN   F  1910     Mary    619\n",
       "1    IN   F  1910    Helen    324\n",
       "2    IN   F  1910     Ruth    238\n",
       "3    IN   F  1910  Dorothy    215\n",
       "4    IN   F  1910  Mildred    200"
      ]
     },
     "execution_count": 8,
     "metadata": {},
     "output_type": "execute_result"
    }
   ],
   "source": [
    "df.head()"
   ]
  },
  {
   "cell_type": "markdown",
   "metadata": {},
   "source": [
    "### 1. Top-10 Most Popular Names"
   ]
  },
  {
   "cell_type": "markdown",
   "metadata": {},
   "source": [
    "As a warm-up exercise, it would be interesting to know which are the top 10 male and top 10 female baby names. The approach for generating these results involves:"
   ]
  },
  {
   "cell_type": "markdown",
   "metadata": {},
   "source": [
    "1. filter by gender (\"M\" or \"F\")\n",
    "1. select the *name* and *count* columns of the resulting dataframe\n",
    "1. group the results by name and sum the counts for each name\n",
    "1. sort the results by count in descending order\n",
    "1. display the first 10 results from the dataframe"
   ]
  },
  {
   "cell_type": "markdown",
   "metadata": {},
   "source": [
    "Because the dataframe manipulations for males and females only differs based on the filter performed on the sex column, a function for generating the top *n* names reduces code duplication and is implemented below:"
   ]
  },
  {
   "cell_type": "code",
   "execution_count": 9,
   "metadata": {},
   "outputs": [],
   "source": [
    "def top_names(gender, n=10):\n",
    "    '''\n",
    "    Get the top n names based on gender\n",
    "    \n",
    "    gender - string representing gender ('M' or 'F')\n",
    "    n - the number of names to return\n",
    "    '''\n",
    "    \n",
    "    gender_df = df[df.sex==gender][[\"name\", \"count\"]] \n",
    "    agg_names = gender_df.groupby([\"name\"]).sum()\n",
    "    sorted_names = agg_names.sort_values(\"count\", ascending=False)\n",
    "    return sorted_names.head(n)"
   ]
  },
  {
   "cell_type": "code",
   "execution_count": 10,
   "metadata": {},
   "outputs": [
    {
     "data": {
      "text/html": [
       "<div>\n",
       "<style scoped>\n",
       "    .dataframe tbody tr th:only-of-type {\n",
       "        vertical-align: middle;\n",
       "    }\n",
       "\n",
       "    .dataframe tbody tr th {\n",
       "        vertical-align: top;\n",
       "    }\n",
       "\n",
       "    .dataframe thead th {\n",
       "        text-align: right;\n",
       "    }\n",
       "</style>\n",
       "<table border=\"1\" class=\"dataframe\">\n",
       "  <thead>\n",
       "    <tr style=\"text-align: right;\">\n",
       "      <th></th>\n",
       "      <th>count</th>\n",
       "    </tr>\n",
       "    <tr>\n",
       "      <th>name</th>\n",
       "      <th></th>\n",
       "    </tr>\n",
       "  </thead>\n",
       "  <tbody>\n",
       "    <tr>\n",
       "      <th>James</th>\n",
       "      <td>4997327</td>\n",
       "    </tr>\n",
       "    <tr>\n",
       "      <th>John</th>\n",
       "      <td>4869607</td>\n",
       "    </tr>\n",
       "    <tr>\n",
       "      <th>Robert</th>\n",
       "      <td>4734038</td>\n",
       "    </tr>\n",
       "    <tr>\n",
       "      <th>Michael</th>\n",
       "      <td>4349307</td>\n",
       "    </tr>\n",
       "    <tr>\n",
       "      <th>William</th>\n",
       "      <td>3890923</td>\n",
       "    </tr>\n",
       "    <tr>\n",
       "      <th>David</th>\n",
       "      <td>3597725</td>\n",
       "    </tr>\n",
       "    <tr>\n",
       "      <th>Richard</th>\n",
       "      <td>2539873</td>\n",
       "    </tr>\n",
       "    <tr>\n",
       "      <th>Joseph</th>\n",
       "      <td>2522812</td>\n",
       "    </tr>\n",
       "    <tr>\n",
       "      <th>Charles</th>\n",
       "      <td>2273068</td>\n",
       "    </tr>\n",
       "    <tr>\n",
       "      <th>Thomas</th>\n",
       "      <td>2245124</td>\n",
       "    </tr>\n",
       "  </tbody>\n",
       "</table>\n",
       "</div>"
      ],
      "text/plain": [
       "           count\n",
       "name            \n",
       "James    4997327\n",
       "John     4869607\n",
       "Robert   4734038\n",
       "Michael  4349307\n",
       "William  3890923\n",
       "David    3597725\n",
       "Richard  2539873\n",
       "Joseph   2522812\n",
       "Charles  2273068\n",
       "Thomas   2245124"
      ]
     },
     "execution_count": 10,
     "metadata": {},
     "output_type": "execute_result"
    }
   ],
   "source": [
    "# top 10 male names\n",
    "top_names('M')"
   ]
  },
  {
   "cell_type": "code",
   "execution_count": 11,
   "metadata": {},
   "outputs": [
    {
     "data": {
      "text/html": [
       "<div>\n",
       "<style scoped>\n",
       "    .dataframe tbody tr th:only-of-type {\n",
       "        vertical-align: middle;\n",
       "    }\n",
       "\n",
       "    .dataframe tbody tr th {\n",
       "        vertical-align: top;\n",
       "    }\n",
       "\n",
       "    .dataframe thead th {\n",
       "        text-align: right;\n",
       "    }\n",
       "</style>\n",
       "<table border=\"1\" class=\"dataframe\">\n",
       "  <thead>\n",
       "    <tr style=\"text-align: right;\">\n",
       "      <th></th>\n",
       "      <th>count</th>\n",
       "    </tr>\n",
       "    <tr>\n",
       "      <th>name</th>\n",
       "      <th></th>\n",
       "    </tr>\n",
       "  </thead>\n",
       "  <tbody>\n",
       "    <tr>\n",
       "      <th>Mary</th>\n",
       "      <td>3741196</td>\n",
       "    </tr>\n",
       "    <tr>\n",
       "      <th>Patricia</th>\n",
       "      <td>1569022</td>\n",
       "    </tr>\n",
       "    <tr>\n",
       "      <th>Elizabeth</th>\n",
       "      <td>1537684</td>\n",
       "    </tr>\n",
       "    <tr>\n",
       "      <th>Jennifer</th>\n",
       "      <td>1466161</td>\n",
       "    </tr>\n",
       "    <tr>\n",
       "      <th>Linda</th>\n",
       "      <td>1447943</td>\n",
       "    </tr>\n",
       "    <tr>\n",
       "      <th>Barbara</th>\n",
       "      <td>1424221</td>\n",
       "    </tr>\n",
       "    <tr>\n",
       "      <th>Margaret</th>\n",
       "      <td>1130920</td>\n",
       "    </tr>\n",
       "    <tr>\n",
       "      <th>Susan</th>\n",
       "      <td>1109309</td>\n",
       "    </tr>\n",
       "    <tr>\n",
       "      <th>Dorothy</th>\n",
       "      <td>1053390</td>\n",
       "    </tr>\n",
       "    <tr>\n",
       "      <th>Jessica</th>\n",
       "      <td>1043442</td>\n",
       "    </tr>\n",
       "  </tbody>\n",
       "</table>\n",
       "</div>"
      ],
      "text/plain": [
       "             count\n",
       "name              \n",
       "Mary       3741196\n",
       "Patricia   1569022\n",
       "Elizabeth  1537684\n",
       "Jennifer   1466161\n",
       "Linda      1447943\n",
       "Barbara    1424221\n",
       "Margaret   1130920\n",
       "Susan      1109309\n",
       "Dorothy    1053390\n",
       "Jessica    1043442"
      ]
     },
     "execution_count": 11,
     "metadata": {},
     "output_type": "execute_result"
    }
   ],
   "source": [
    "# top 10 female names\n",
    "top_names('F')"
   ]
  },
  {
   "cell_type": "markdown",
   "metadata": {},
   "source": [
    "According to Social Security application data, James is the most popular male name and Mary (by a large margin) is the most popular female name."
   ]
  },
  {
   "cell_type": "markdown",
   "metadata": {},
   "source": [
    "### 2. Most Consistently Used Names"
   ]
  },
  {
   "cell_type": "markdown",
   "metadata": {},
   "source": [
    "Names may rise and fall in popularity for reasons that are difficult to understand based on the data available from Social Security applications. What can be understood, however, is how consistently names have been given historically. This analysis is only using names used on female applications. Naming consistency will be investigated by calculating the variance of the name proportions over a 50 year period between 1950 and 2000. Only names with a minimum count of 100 applications in each year in the 50 year period will be included in the analysis."
   ]
  },
  {
   "cell_type": "code",
   "execution_count": 12,
   "metadata": {},
   "outputs": [],
   "source": [
    "# get all female names in date range between 1950-2000\n",
    "female_1950_2000 = df[(df.sex==\"F\") & (df.year.isin(range(1950,2000)))][[\"year\",\"name\", \"count\"]]"
   ]
  },
  {
   "cell_type": "code",
   "execution_count": 13,
   "metadata": {},
   "outputs": [
    {
     "data": {
      "text/html": [
       "<div>\n",
       "<style scoped>\n",
       "    .dataframe tbody tr th:only-of-type {\n",
       "        vertical-align: middle;\n",
       "    }\n",
       "\n",
       "    .dataframe tbody tr th {\n",
       "        vertical-align: top;\n",
       "    }\n",
       "\n",
       "    .dataframe thead th {\n",
       "        text-align: right;\n",
       "    }\n",
       "</style>\n",
       "<table border=\"1\" class=\"dataframe\">\n",
       "  <thead>\n",
       "    <tr style=\"text-align: right;\">\n",
       "      <th></th>\n",
       "      <th></th>\n",
       "      <th>count</th>\n",
       "    </tr>\n",
       "    <tr>\n",
       "      <th>name</th>\n",
       "      <th>year</th>\n",
       "      <th></th>\n",
       "    </tr>\n",
       "  </thead>\n",
       "  <tbody>\n",
       "    <tr>\n",
       "      <th>Aaleyah</th>\n",
       "      <th>1997</th>\n",
       "      <td>5</td>\n",
       "    </tr>\n",
       "    <tr>\n",
       "      <th>Aaliya</th>\n",
       "      <th>1997</th>\n",
       "      <td>10</td>\n",
       "    </tr>\n",
       "    <tr>\n",
       "      <th rowspan=\"3\" valign=\"top\">Aaliyah</th>\n",
       "      <th>1977</th>\n",
       "      <td>26</td>\n",
       "    </tr>\n",
       "    <tr>\n",
       "      <th>1978</th>\n",
       "      <td>26</td>\n",
       "    </tr>\n",
       "    <tr>\n",
       "      <th>1979</th>\n",
       "      <td>22</td>\n",
       "    </tr>\n",
       "  </tbody>\n",
       "</table>\n",
       "</div>"
      ],
      "text/plain": [
       "              count\n",
       "name    year       \n",
       "Aaleyah 1997      5\n",
       "Aaliya  1997     10\n",
       "Aaliyah 1977     26\n",
       "        1978     26\n",
       "        1979     22"
      ]
     },
     "execution_count": 13,
     "metadata": {},
     "output_type": "execute_result"
    }
   ],
   "source": [
    "# sum counts by name and year\n",
    "name_year = female_1950_2000.groupby([\"name\", \"year\"]).sum()\n",
    "name_year.head()"
   ]
  },
  {
   "cell_type": "code",
   "execution_count": 14,
   "metadata": {},
   "outputs": [
    {
     "data": {
      "text/html": [
       "<div>\n",
       "<style scoped>\n",
       "    .dataframe tbody tr th:only-of-type {\n",
       "        vertical-align: middle;\n",
       "    }\n",
       "\n",
       "    .dataframe tbody tr th {\n",
       "        vertical-align: top;\n",
       "    }\n",
       "\n",
       "    .dataframe thead th {\n",
       "        text-align: right;\n",
       "    }\n",
       "</style>\n",
       "<table border=\"1\" class=\"dataframe\">\n",
       "  <thead>\n",
       "    <tr style=\"text-align: right;\">\n",
       "      <th></th>\n",
       "      <th>count</th>\n",
       "    </tr>\n",
       "    <tr>\n",
       "      <th>name</th>\n",
       "      <th></th>\n",
       "    </tr>\n",
       "  </thead>\n",
       "  <tbody>\n",
       "    <tr>\n",
       "      <th>Aaliyah</th>\n",
       "      <td>6</td>\n",
       "    </tr>\n",
       "    <tr>\n",
       "      <th>Aaron</th>\n",
       "      <td>3</td>\n",
       "    </tr>\n",
       "    <tr>\n",
       "      <th>Abagail</th>\n",
       "      <td>4</td>\n",
       "    </tr>\n",
       "    <tr>\n",
       "      <th>Abbey</th>\n",
       "      <td>22</td>\n",
       "    </tr>\n",
       "    <tr>\n",
       "      <th>Abbie</th>\n",
       "      <td>22</td>\n",
       "    </tr>\n",
       "  </tbody>\n",
       "</table>\n",
       "</div>"
      ],
      "text/plain": [
       "         count\n",
       "name          \n",
       "Aaliyah      6\n",
       "Aaron        3\n",
       "Abagail      4\n",
       "Abbey       22\n",
       "Abbie       22"
      ]
     },
     "execution_count": 14,
     "metadata": {},
     "output_type": "execute_result"
    }
   ],
   "source": [
    "# determine how many female baby names had at least 100 applications in every year under consideration \n",
    "names_min100 = name_year[name_year[\"count\"] >= 100].groupby([\"name\"]).count()\n",
    "names_min100.head()"
   ]
  },
  {
   "cell_type": "code",
   "execution_count": 15,
   "metadata": {},
   "outputs": [
    {
     "data": {
      "text/html": [
       "<div>\n",
       "<style scoped>\n",
       "    .dataframe tbody tr th:only-of-type {\n",
       "        vertical-align: middle;\n",
       "    }\n",
       "\n",
       "    .dataframe tbody tr th {\n",
       "        vertical-align: top;\n",
       "    }\n",
       "\n",
       "    .dataframe thead th {\n",
       "        text-align: right;\n",
       "    }\n",
       "</style>\n",
       "<table border=\"1\" class=\"dataframe\">\n",
       "  <thead>\n",
       "    <tr style=\"text-align: right;\">\n",
       "      <th></th>\n",
       "      <th></th>\n",
       "      <th>count</th>\n",
       "    </tr>\n",
       "    <tr>\n",
       "      <th>name</th>\n",
       "      <th>year</th>\n",
       "      <th></th>\n",
       "    </tr>\n",
       "  </thead>\n",
       "  <tbody>\n",
       "    <tr>\n",
       "      <th>Linda</th>\n",
       "      <th>1950</th>\n",
       "      <td>2262</td>\n",
       "    </tr>\n",
       "    <tr>\n",
       "      <th>Mary</th>\n",
       "      <th>1950</th>\n",
       "      <td>1517</td>\n",
       "    </tr>\n",
       "    <tr>\n",
       "      <th>Patricia</th>\n",
       "      <th>1950</th>\n",
       "      <td>1085</td>\n",
       "    </tr>\n",
       "    <tr>\n",
       "      <th>Deborah</th>\n",
       "      <th>1950</th>\n",
       "      <td>1084</td>\n",
       "    </tr>\n",
       "    <tr>\n",
       "      <th>Susan</th>\n",
       "      <th>1950</th>\n",
       "      <td>938</td>\n",
       "    </tr>\n",
       "  </tbody>\n",
       "</table>\n",
       "</div>"
      ],
      "text/plain": [
       "               count\n",
       "name     year       \n",
       "Linda    1950   2262\n",
       "Mary     1950   1517\n",
       "Patricia 1950   1085\n",
       "Deborah  1950   1084\n",
       "Susan    1950    938"
      ]
     },
     "execution_count": 15,
     "metadata": {},
     "output_type": "execute_result"
    }
   ],
   "source": [
    "# filter out names that did not have 100 applications in every yearr\n",
    "name_year = female_1950_2000[female_1950_2000.name.isin(names_min100.index.get_level_values('name'))]\n",
    "name_year.set_index([\"name\", \"year\"], inplace=True)\n",
    "name_year.head()"
   ]
  },
  {
   "cell_type": "code",
   "execution_count": 16,
   "metadata": {},
   "outputs": [
    {
     "data": {
      "text/html": [
       "<div>\n",
       "<style scoped>\n",
       "    .dataframe tbody tr th:only-of-type {\n",
       "        vertical-align: middle;\n",
       "    }\n",
       "\n",
       "    .dataframe tbody tr th {\n",
       "        vertical-align: top;\n",
       "    }\n",
       "\n",
       "    .dataframe thead th {\n",
       "        text-align: right;\n",
       "    }\n",
       "</style>\n",
       "<table border=\"1\" class=\"dataframe\">\n",
       "  <thead>\n",
       "    <tr style=\"text-align: right;\">\n",
       "      <th></th>\n",
       "      <th>count</th>\n",
       "    </tr>\n",
       "    <tr>\n",
       "      <th>year</th>\n",
       "      <th></th>\n",
       "    </tr>\n",
       "  </thead>\n",
       "  <tbody>\n",
       "    <tr>\n",
       "      <th>1950</th>\n",
       "      <td>1610039</td>\n",
       "    </tr>\n",
       "    <tr>\n",
       "      <th>1951</th>\n",
       "      <td>1695480</td>\n",
       "    </tr>\n",
       "    <tr>\n",
       "      <th>1952</th>\n",
       "      <td>1745385</td>\n",
       "    </tr>\n",
       "    <tr>\n",
       "      <th>1953</th>\n",
       "      <td>1770245</td>\n",
       "    </tr>\n",
       "    <tr>\n",
       "      <th>1954</th>\n",
       "      <td>1827959</td>\n",
       "    </tr>\n",
       "  </tbody>\n",
       "</table>\n",
       "</div>"
      ],
      "text/plain": [
       "        count\n",
       "year         \n",
       "1950  1610039\n",
       "1951  1695480\n",
       "1952  1745385\n",
       "1953  1770245\n",
       "1954  1827959"
      ]
     },
     "execution_count": 16,
     "metadata": {},
     "output_type": "execute_result"
    }
   ],
   "source": [
    "# compute total application counts by year\n",
    "year_sums = pd.DataFrame(female_1950_2000.groupby([\"year\"])[\"count\"].sum())\n",
    "year_sums.head()"
   ]
  },
  {
   "cell_type": "code",
   "execution_count": 17,
   "metadata": {},
   "outputs": [
    {
     "data": {
      "text/html": [
       "<div>\n",
       "<style scoped>\n",
       "    .dataframe tbody tr th:only-of-type {\n",
       "        vertical-align: middle;\n",
       "    }\n",
       "\n",
       "    .dataframe tbody tr th {\n",
       "        vertical-align: top;\n",
       "    }\n",
       "\n",
       "    .dataframe thead th {\n",
       "        text-align: right;\n",
       "    }\n",
       "</style>\n",
       "<table border=\"1\" class=\"dataframe\">\n",
       "  <thead>\n",
       "    <tr style=\"text-align: right;\">\n",
       "      <th></th>\n",
       "      <th></th>\n",
       "      <th>perc</th>\n",
       "    </tr>\n",
       "    <tr>\n",
       "      <th>name</th>\n",
       "      <th>year</th>\n",
       "      <th></th>\n",
       "    </tr>\n",
       "  </thead>\n",
       "  <tbody>\n",
       "    <tr>\n",
       "      <th>Linda</th>\n",
       "      <th>1950</th>\n",
       "      <td>0.140493</td>\n",
       "    </tr>\n",
       "    <tr>\n",
       "      <th>Mary</th>\n",
       "      <th>1950</th>\n",
       "      <td>0.094221</td>\n",
       "    </tr>\n",
       "    <tr>\n",
       "      <th>Patricia</th>\n",
       "      <th>1950</th>\n",
       "      <td>0.067390</td>\n",
       "    </tr>\n",
       "    <tr>\n",
       "      <th>Deborah</th>\n",
       "      <th>1950</th>\n",
       "      <td>0.067328</td>\n",
       "    </tr>\n",
       "    <tr>\n",
       "      <th>Susan</th>\n",
       "      <th>1950</th>\n",
       "      <td>0.058259</td>\n",
       "    </tr>\n",
       "  </tbody>\n",
       "</table>\n",
       "</div>"
      ],
      "text/plain": [
       "                   perc\n",
       "name     year          \n",
       "Linda    1950  0.140493\n",
       "Mary     1950  0.094221\n",
       "Patricia 1950  0.067390\n",
       "Deborah  1950  0.067328\n",
       "Susan    1950  0.058259"
      ]
     },
     "execution_count": 17,
     "metadata": {},
     "output_type": "execute_result"
    }
   ],
   "source": [
    "# calculate the percentage of total names for each name per year\n",
    "name_percentages = name_year.apply(lambda row: row[\"count\"]/year_sums.loc[row.name[1]]*100, axis=1)\n",
    "name_percentages.rename(columns={\"count\": \"perc\"}, inplace=True)\n",
    "name_percentages.head()"
   ]
  },
  {
   "cell_type": "code",
   "execution_count": 18,
   "metadata": {},
   "outputs": [],
   "source": [
    "# calculate the variances for each name during the time period\n",
    "variances = {}\n",
    "for name in set(name_year.index.get_level_values(0)):\n",
    "    values = name_percentages.xs(key=name, level=\"name\").perc\n",
    "    variances[name] = values.var()"
   ]
  },
  {
   "cell_type": "code",
   "execution_count": 19,
   "metadata": {},
   "outputs": [],
   "source": [
    "# convert variances dictionary into pandas data frame\n",
    "results = pd.DataFrame(variances.items(), columns=[\"name\", \"vars\"])\n",
    "results.set_index(\"name\", inplace=True)"
   ]
  },
  {
   "cell_type": "code",
   "execution_count": 20,
   "metadata": {},
   "outputs": [
    {
     "data": {
      "text/html": [
       "<div>\n",
       "<style scoped>\n",
       "    .dataframe tbody tr th:only-of-type {\n",
       "        vertical-align: middle;\n",
       "    }\n",
       "\n",
       "    .dataframe tbody tr th {\n",
       "        vertical-align: top;\n",
       "    }\n",
       "\n",
       "    .dataframe thead th {\n",
       "        text-align: right;\n",
       "    }\n",
       "</style>\n",
       "<table border=\"1\" class=\"dataframe\">\n",
       "  <thead>\n",
       "    <tr style=\"text-align: right;\">\n",
       "      <th></th>\n",
       "      <th>vars</th>\n",
       "    </tr>\n",
       "    <tr>\n",
       "      <th>name</th>\n",
       "      <th></th>\n",
       "    </tr>\n",
       "  </thead>\n",
       "  <tbody>\n",
       "    <tr>\n",
       "      <th>Louella</th>\n",
       "      <td>1.178639e-08</td>\n",
       "    </tr>\n",
       "    <tr>\n",
       "      <th>Sheilah</th>\n",
       "      <td>1.241235e-08</td>\n",
       "    </tr>\n",
       "    <tr>\n",
       "      <th>Leisha</th>\n",
       "      <td>1.349056e-08</td>\n",
       "    </tr>\n",
       "    <tr>\n",
       "      <th>Sherree</th>\n",
       "      <td>1.391618e-08</td>\n",
       "    </tr>\n",
       "    <tr>\n",
       "      <th>Cleo</th>\n",
       "      <td>1.427606e-08</td>\n",
       "    </tr>\n",
       "  </tbody>\n",
       "</table>\n",
       "</div>"
      ],
      "text/plain": [
       "                 vars\n",
       "name                 \n",
       "Louella  1.178639e-08\n",
       "Sheilah  1.241235e-08\n",
       "Leisha   1.349056e-08\n",
       "Sherree  1.391618e-08\n",
       "Cleo     1.427606e-08"
      ]
     },
     "execution_count": 20,
     "metadata": {},
     "output_type": "execute_result"
    }
   ],
   "source": [
    "# order variances in ascending order\n",
    "results.reindex(results.sort_values(by='vars').index).head()"
   ]
  },
  {
   "cell_type": "markdown",
   "metadata": {},
   "source": [
    "The 5 names that changed the least in relative popularity from 1950-2000 were (in order of consistency) Louella, Sheilah, Leisha, Sherree, and Cleo."
   ]
  },
  {
   "cell_type": "markdown",
   "metadata": {},
   "source": [
    "### 3. Gender Differences in Naming"
   ]
  },
  {
   "cell_type": "markdown",
   "metadata": {},
   "source": [
    "The data being explored in this notebook is not very complex. There are only 5 features. However, one of the most interesting categories present in the data is gender. This section of the analysis will focus on gender differences in naminig."
   ]
  },
  {
   "cell_type": "markdown",
   "metadata": {},
   "source": [
    "#### Question: Is there a difference between male and female applications across years based on the data?"
   ]
  },
  {
   "cell_type": "code",
   "execution_count": 21,
   "metadata": {},
   "outputs": [
    {
     "data": {
      "text/html": [
       "<div>\n",
       "<style scoped>\n",
       "    .dataframe tbody tr th:only-of-type {\n",
       "        vertical-align: middle;\n",
       "    }\n",
       "\n",
       "    .dataframe tbody tr th {\n",
       "        vertical-align: top;\n",
       "    }\n",
       "\n",
       "    .dataframe thead th {\n",
       "        text-align: right;\n",
       "    }\n",
       "</style>\n",
       "<table border=\"1\" class=\"dataframe\">\n",
       "  <thead>\n",
       "    <tr style=\"text-align: right;\">\n",
       "      <th></th>\n",
       "      <th>year</th>\n",
       "      <th>sex</th>\n",
       "      <th>count</th>\n",
       "    </tr>\n",
       "  </thead>\n",
       "  <tbody>\n",
       "    <tr>\n",
       "      <th>0</th>\n",
       "      <td>1910</td>\n",
       "      <td>F</td>\n",
       "      <td>352089</td>\n",
       "    </tr>\n",
       "    <tr>\n",
       "      <th>1</th>\n",
       "      <td>1910</td>\n",
       "      <td>M</td>\n",
       "      <td>164226</td>\n",
       "    </tr>\n",
       "    <tr>\n",
       "      <th>2</th>\n",
       "      <td>1911</td>\n",
       "      <td>F</td>\n",
       "      <td>372381</td>\n",
       "    </tr>\n",
       "    <tr>\n",
       "      <th>3</th>\n",
       "      <td>1911</td>\n",
       "      <td>M</td>\n",
       "      <td>193441</td>\n",
       "    </tr>\n",
       "    <tr>\n",
       "      <th>4</th>\n",
       "      <td>1912</td>\n",
       "      <td>F</td>\n",
       "      <td>504298</td>\n",
       "    </tr>\n",
       "    <tr>\n",
       "      <th>5</th>\n",
       "      <td>1912</td>\n",
       "      <td>M</td>\n",
       "      <td>383703</td>\n",
       "    </tr>\n",
       "    <tr>\n",
       "      <th>6</th>\n",
       "      <td>1913</td>\n",
       "      <td>F</td>\n",
       "      <td>566973</td>\n",
       "    </tr>\n",
       "    <tr>\n",
       "      <th>7</th>\n",
       "      <td>1913</td>\n",
       "      <td>M</td>\n",
       "      <td>461607</td>\n",
       "    </tr>\n",
       "    <tr>\n",
       "      <th>8</th>\n",
       "      <td>1914</td>\n",
       "      <td>F</td>\n",
       "      <td>696906</td>\n",
       "    </tr>\n",
       "    <tr>\n",
       "      <th>9</th>\n",
       "      <td>1914</td>\n",
       "      <td>M</td>\n",
       "      <td>596440</td>\n",
       "    </tr>\n",
       "  </tbody>\n",
       "</table>\n",
       "</div>"
      ],
      "text/plain": [
       "   year sex   count\n",
       "0  1910   F  352089\n",
       "1  1910   M  164226\n",
       "2  1911   F  372381\n",
       "3  1911   M  193441\n",
       "4  1912   F  504298\n",
       "5  1912   M  383703\n",
       "6  1913   F  566973\n",
       "7  1913   M  461607\n",
       "8  1914   F  696906\n",
       "9  1914   M  596440"
      ]
     },
     "execution_count": 21,
     "metadata": {},
     "output_type": "execute_result"
    }
   ],
   "source": [
    "# generate the total number of male and female baby names per year\n",
    "counts_by_year_sex = df[[\"year\", \"sex\", \"count\"]].groupby([\"year\", \"sex\"]).sum().reset_index()\n",
    "counts_by_year_sex.head(10)"
   ]
  },
  {
   "cell_type": "code",
   "execution_count": 22,
   "metadata": {},
   "outputs": [
    {
     "data": {
      "text/html": [
       "<div>\n",
       "<style scoped>\n",
       "    .dataframe tbody tr th:only-of-type {\n",
       "        vertical-align: middle;\n",
       "    }\n",
       "\n",
       "    .dataframe tbody tr th {\n",
       "        vertical-align: top;\n",
       "    }\n",
       "\n",
       "    .dataframe thead th {\n",
       "        text-align: right;\n",
       "    }\n",
       "</style>\n",
       "<table border=\"1\" class=\"dataframe\">\n",
       "  <thead>\n",
       "    <tr style=\"text-align: right;\">\n",
       "      <th>sex</th>\n",
       "      <th>F</th>\n",
       "      <th>M</th>\n",
       "    </tr>\n",
       "    <tr>\n",
       "      <th>year</th>\n",
       "      <th></th>\n",
       "      <th></th>\n",
       "    </tr>\n",
       "  </thead>\n",
       "  <tbody>\n",
       "    <tr>\n",
       "      <th>1910</th>\n",
       "      <td>352089</td>\n",
       "      <td>164226</td>\n",
       "    </tr>\n",
       "    <tr>\n",
       "      <th>1911</th>\n",
       "      <td>372381</td>\n",
       "      <td>193441</td>\n",
       "    </tr>\n",
       "    <tr>\n",
       "      <th>1912</th>\n",
       "      <td>504298</td>\n",
       "      <td>383703</td>\n",
       "    </tr>\n",
       "    <tr>\n",
       "      <th>1913</th>\n",
       "      <td>566973</td>\n",
       "      <td>461607</td>\n",
       "    </tr>\n",
       "    <tr>\n",
       "      <th>1914</th>\n",
       "      <td>696906</td>\n",
       "      <td>596440</td>\n",
       "    </tr>\n",
       "  </tbody>\n",
       "</table>\n",
       "</div>"
      ],
      "text/plain": [
       "sex        F       M\n",
       "year                \n",
       "1910  352089  164226\n",
       "1911  372381  193441\n",
       "1912  504298  383703\n",
       "1913  566973  461607\n",
       "1914  696906  596440"
      ]
     },
     "execution_count": 22,
     "metadata": {},
     "output_type": "execute_result"
    }
   ],
   "source": [
    "# pivot dataframe to display counts with year in rows and sex in columns\n",
    "count_by_sex_df = counts_by_year_sex.pivot(index='year', columns='sex', values='count')\n",
    "count_by_sex_df[['F', 'M']].head()"
   ]
  },
  {
   "cell_type": "code",
   "execution_count": 23,
   "metadata": {},
   "outputs": [],
   "source": [
    "count_by_sex_df['portion_female'] = count_by_sex_df['F'] / (count_by_sex_df['F'] + count_by_sex_df['M'])"
   ]
  },
  {
   "cell_type": "markdown",
   "metadata": {},
   "source": [
    "The dataframe above now contains a column that represents the portion of female applications per year. "
   ]
  },
  {
   "cell_type": "code",
   "execution_count": 24,
   "metadata": {},
   "outputs": [
    {
     "data": {
      "text/html": [
       "<div>\n",
       "<style scoped>\n",
       "    .dataframe tbody tr th:only-of-type {\n",
       "        vertical-align: middle;\n",
       "    }\n",
       "\n",
       "    .dataframe tbody tr th {\n",
       "        vertical-align: top;\n",
       "    }\n",
       "\n",
       "    .dataframe thead th {\n",
       "        text-align: right;\n",
       "    }\n",
       "</style>\n",
       "<table border=\"1\" class=\"dataframe\">\n",
       "  <thead>\n",
       "    <tr style=\"text-align: right;\">\n",
       "      <th>sex</th>\n",
       "      <th>F</th>\n",
       "      <th>M</th>\n",
       "      <th>portion_female</th>\n",
       "    </tr>\n",
       "    <tr>\n",
       "      <th>year</th>\n",
       "      <th></th>\n",
       "      <th></th>\n",
       "      <th></th>\n",
       "    </tr>\n",
       "  </thead>\n",
       "  <tbody>\n",
       "    <tr>\n",
       "      <th>1910</th>\n",
       "      <td>352089</td>\n",
       "      <td>164226</td>\n",
       "      <td>0.681927</td>\n",
       "    </tr>\n",
       "    <tr>\n",
       "      <th>1911</th>\n",
       "      <td>372381</td>\n",
       "      <td>193441</td>\n",
       "      <td>0.658124</td>\n",
       "    </tr>\n",
       "    <tr>\n",
       "      <th>1912</th>\n",
       "      <td>504298</td>\n",
       "      <td>383703</td>\n",
       "      <td>0.567903</td>\n",
       "    </tr>\n",
       "    <tr>\n",
       "      <th>1913</th>\n",
       "      <td>566973</td>\n",
       "      <td>461607</td>\n",
       "      <td>0.551219</td>\n",
       "    </tr>\n",
       "    <tr>\n",
       "      <th>1914</th>\n",
       "      <td>696906</td>\n",
       "      <td>596440</td>\n",
       "      <td>0.538840</td>\n",
       "    </tr>\n",
       "  </tbody>\n",
       "</table>\n",
       "</div>"
      ],
      "text/plain": [
       "sex        F       M  portion_female\n",
       "year                                \n",
       "1910  352089  164226        0.681927\n",
       "1911  372381  193441        0.658124\n",
       "1912  504298  383703        0.567903\n",
       "1913  566973  461607        0.551219\n",
       "1914  696906  596440        0.538840"
      ]
     },
     "execution_count": 24,
     "metadata": {},
     "output_type": "execute_result"
    }
   ],
   "source": [
    "count_by_sex_df.head()"
   ]
  },
  {
   "cell_type": "markdown",
   "metadata": {},
   "source": [
    "With the data in a convenient format for analysis, some exploratory data analysis can now be performed."
   ]
  },
  {
   "cell_type": "code",
   "execution_count": 25,
   "metadata": {},
   "outputs": [],
   "source": [
    "# Empirical Cumulative Distribution Function\n",
    "x_cdf, y_cdf = dcst.ecdf(count_by_sex_df['portion_female'])\n",
    "x = [count_by_sex_df['portion_female'].min(), count_by_sex_df['portion_female'].max()]\n",
    "y = [0.5, 0.5]"
   ]
  },
  {
   "cell_type": "code",
   "execution_count": 26,
   "metadata": {},
   "outputs": [
    {
     "data": {
      "image/png": "[encoded data removed]",
      "text/plain": [
       "<Figure size 432x288 with 1 Axes>"
      ]
     },
     "metadata": {},
     "output_type": "display_data"
    }
   ],
   "source": [
    "_ = plt.plot(x_cdf, y_cdf, marker='.', linestyle='none')\n",
    "y = [0.5, 0.5]\n",
    "_ = plt.plot(x, y, color='red')\n",
    "_ = plt.xlabel('Female Proportion')\n",
    "_ = plt.ylabel('CDF')"
   ]
  },
  {
   "cell_type": "markdown",
   "metadata": {},
   "source": [
    "The median proportion of female births appears to be less than 0.5 according to the plot of the cumulative distrubition function. While this provides some evidence that there have been fewer female births historically than male births, we need additional evidence to have confidence in this observation. "
   ]
  },
  {
   "cell_type": "code",
   "execution_count": 27,
   "metadata": {},
   "outputs": [
    {
     "name": "stdout",
     "output_type": "stream",
     "text": [
      "Mean proportion of female births : 0.487711\n",
      "95% CI for mean proportion of female births:  [0.48172149 0.49464529]\n"
     ]
    }
   ],
   "source": [
    "# calculate the average portion of females born per year\n",
    "mean_prop = count_by_sex_df['portion_female'].mean()\n",
    "\n",
    "# create 10000 bootstrap replicates of the portion of female births\n",
    "bs_replicates = dcst.draw_bs_reps(count_by_sex_df['portion_female'].to_numpy(), np.mean, 10000 )\n",
    "\n",
    "# create a 95% confidence interval using the bootstrap replicates\n",
    "conf_interval = np.percentile(bs_replicates, [2.5, 97.5])\n",
    "\n",
    "print(\"Mean proportion of female births : %f\" % mean_prop)\n",
    "print(\"95% CI for mean proportion of female births: \", conf_interval)"
   ]
  },
  {
   "cell_type": "markdown",
   "metadata": {},
   "source": [
    "We see that the average value for the proportion of females births indicates that the number of male births is on average higher than female births. In addition, the 95% confidence interval does not include 0.5 (a 50/50 gender split). This provides some evidence that there actually is a larger proportion of male births than female births. Let's go further and perform a hypothesis test regarding differences in birth by gender."
   ]
  },
  {
   "cell_type": "markdown",
   "metadata": {},
   "source": [
    "*Hypothesis*: The proportion of female and male annual birth counts in the U.S. based on social security applications is equal.\n",
    "\n",
    "*Test Statistic*: Average proportion of births that are labeled as female.\n",
    "\n",
    "From here, we calculate the p-value for our test statistic to infer how extreme this value is based on our boostrap replicates. "
   ]
  },
  {
   "cell_type": "code",
   "execution_count": 28,
   "metadata": {},
   "outputs": [
    {
     "name": "stdout",
     "output_type": "stream",
     "text": [
      "p-value: 0.508600\n"
     ]
    }
   ],
   "source": [
    "p_val = np.sum(bs_replicates <= mean_prop) / len(bs_replicates)\n",
    "\n",
    "print(\"p-value: %f\" % p_val)"
   ]
  },
  {
   "cell_type": "markdown",
   "metadata": {},
   "source": [
    "This p-value indicates that about 52% of the test statistics from the bootstrap replicates are at least as small as the one observed in this data set. This indicates that there is a relatively high probability that a proportion less than half would be observed simply by chance. Therefore, there is insufficient evidence to reject the hypothesis that the proportion of female and male annual birth counts in the U.S. based on Social Security applications is equal. While the evidence in the data from Social Security applications is not strong enough to reject the hypothesis that more males than females are born in the United States, it turns out that there is evidence that such a difference does exist [based on the country in which the birth occurs](https://www.pewresearch.org/fact-tank/2013/09/24/the-odds-that-you-will-give-birth-to-a-boy-or-girl-depend-on-where-in-the-world-you-live/)."
   ]
  },
  {
   "cell_type": "markdown",
   "metadata": {},
   "source": [
    "Another interesting question to investigate is also a gendered one: "
   ]
  },
  {
   "cell_type": "markdown",
   "metadata": {},
   "source": [
    "#### Question: Are male and female name lengths equally distributed?"
   ]
  },
  {
   "cell_type": "markdown",
   "metadata": {},
   "source": [
    "To explore this question, we first need to massage our data into a form that will help to understand name lengths by gender. The series below includes two columns: *name* and *gender*. This is a listing of all unique baby name/gender combinations summed over states and birth years. "
   ]
  },
  {
   "cell_type": "code",
   "execution_count": 29,
   "metadata": {},
   "outputs": [],
   "source": [
    "name_and_gender = df.groupby(['name', 'sex']).size()"
   ]
  },
  {
   "cell_type": "code",
   "execution_count": 30,
   "metadata": {},
   "outputs": [
    {
     "data": {
      "text/plain": [
       "name     sex\n",
       "Aaban    M        2\n",
       "Aadan    M        4\n",
       "Aadarsh  M        1\n",
       "Aaden    M      256\n",
       "Aadhav   M        6\n",
       "dtype: int64"
      ]
     },
     "execution_count": 30,
     "metadata": {},
     "output_type": "execute_result"
    }
   ],
   "source": [
    "name_and_gender.head()"
   ]
  },
  {
   "cell_type": "markdown",
   "metadata": {},
   "source": [
    "The (name, sex)-index for this series has most of the information that we want. Therefore, a dataframe with just these values would be useful."
   ]
  },
  {
   "cell_type": "code",
   "execution_count": 31,
   "metadata": {},
   "outputs": [],
   "source": [
    "# convert series into a DataFrame\n",
    "name_gender_df = name_and_gender.reset_index()"
   ]
  },
  {
   "cell_type": "code",
   "execution_count": 32,
   "metadata": {},
   "outputs": [],
   "source": [
    "# remove the counts of each name/gender combination\n",
    "del name_gender_df[0]"
   ]
  },
  {
   "cell_type": "code",
   "execution_count": 33,
   "metadata": {},
   "outputs": [
    {
     "data": {
      "text/plain": [
       "34637"
      ]
     },
     "execution_count": 33,
     "metadata": {},
     "output_type": "execute_result"
    }
   ],
   "source": [
    "len(name_gender_df)"
   ]
  },
  {
   "cell_type": "markdown",
   "metadata": {},
   "source": [
    "As evaluation of the expression above indicates, there are close to 35k names in this dataset. This isn't a large dataset. However, for the purposes of this analysis, the dataset can be reduced. There are names in this list which appear twice. These are unisex names that have been assigned to both male and female births. The length of these names will be represented in the distributions of name lengths for both genders and, essentially, cancel each other out. Therfore, we can discard these names from the dataset because this analysis will be focused on the comparison of name lengths by gender. How many names fall into this category?"
   ]
  },
  {
   "cell_type": "code",
   "execution_count": 34,
   "metadata": {},
   "outputs": [],
   "source": [
    "# group by names and calculate number of times the name appears in the list\n",
    "name_counts = name_gender_df.groupby(['name']).size()"
   ]
  },
  {
   "cell_type": "code",
   "execution_count": 35,
   "metadata": {},
   "outputs": [
    {
     "data": {
      "text/plain": [
       "name\n",
       "Aaliyah    2\n",
       "Aaren      2\n",
       "Aarin      2\n",
       "Aaron      2\n",
       "Aarya      2\n",
       "          ..\n",
       "Zuri       2\n",
       "Zuriel     2\n",
       "Zyaire     2\n",
       "Zyan       2\n",
       "Zyon       2\n",
       "Length: 3042, dtype: int64"
      ]
     },
     "execution_count": 35,
     "metadata": {},
     "output_type": "execute_result"
    }
   ],
   "source": [
    "name_counts[name_counts > 1]"
   ]
  },
  {
   "cell_type": "markdown",
   "metadata": {},
   "source": [
    "The number of unisex names is a bit over 3k. We can reduce our dataset by twice this amount! So, let's do that."
   ]
  },
  {
   "cell_type": "code",
   "execution_count": 36,
   "metadata": {},
   "outputs": [],
   "source": [
    "name_gender_df = name_gender_df[~name_gender_df['name'].isin(name_counts[name_counts > 1].index)]"
   ]
  },
  {
   "cell_type": "code",
   "execution_count": 37,
   "metadata": {},
   "outputs": [
    {
     "data": {
      "text/plain": [
       "28553"
      ]
     },
     "execution_count": 37,
     "metadata": {},
     "output_type": "execute_result"
    }
   ],
   "source": [
    "len(name_gender_df)"
   ]
  },
  {
   "cell_type": "markdown",
   "metadata": {},
   "source": [
    "An interesting question that can be explored in this data is if there is more diversity in baby names between genders in the U.S. This can be computed with a simple groupby."
   ]
  },
  {
   "cell_type": "code",
   "execution_count": 38,
   "metadata": {},
   "outputs": [
    {
     "data": {
      "text/plain": [
       "sex\n",
       "F    17810\n",
       "M    10743\n",
       "dtype: int64"
      ]
     },
     "execution_count": 38,
     "metadata": {},
     "output_type": "execute_result"
    }
   ],
   "source": [
    "name_gender_df.groupby(['sex']).size()"
   ]
  },
  {
   "cell_type": "markdown",
   "metadata": {},
   "source": [
    "There are almost twice as many female names as male names. But is there really a difference? Let's run a quick chi-square test on these counts to determine if a statistical difference exists between these counts. To make this question more precise:"
   ]
  },
  {
   "cell_type": "markdown",
   "metadata": {},
   "source": [
    "*Hypothesis*: There is no difference in the number of unique female names compared to the number of unique male names based on social security applications in the U.S.\n",
    "\n",
    "Test statistic: Chi-square statistic\n",
    "\n",
    "The computed p-value is interpreted as the percentage of chi-square statistics we would expect to be as small or smaller than the one computed for the observed counts simply by chance."
   ]
  },
  {
   "cell_type": "code",
   "execution_count": 39,
   "metadata": {},
   "outputs": [],
   "source": [
    "chisq_stat, p = chisquare(name_gender_df.groupby(['sex']).size().to_numpy())"
   ]
  },
  {
   "cell_type": "code",
   "execution_count": 40,
   "metadata": {},
   "outputs": [
    {
     "data": {
      "text/plain": [
       "0.0"
      ]
     },
     "execution_count": 40,
     "metadata": {},
     "output_type": "execute_result"
    }
   ],
   "source": [
    "p"
   ]
  },
  {
   "cell_type": "markdown",
   "metadata": {},
   "source": [
    "Therefore, we have pretty strong evidence that there actually is a difference in the number of unique female names compared to the number of unique male names based on U.S. social security applications. Recall, the 3k+ names that were tossed earlier in this analysis. These names would have contributed equally to both counts of unique names and, therefore, the removal of those names does not change the result that was discovered in the Chi-Square test."
   ]
  },
  {
   "cell_type": "markdown",
   "metadata": {},
   "source": [
    "That was an interesting aside but let's now return the question that motivated extracting the unique names: differences in name length by gender. The first thing to do is append the length of each name to the dataset."
   ]
  },
  {
   "cell_type": "code",
   "execution_count": 41,
   "metadata": {},
   "outputs": [],
   "source": [
    "name_gender_df['name_length'] = name_gender_df['name'].str.len()"
   ]
  },
  {
   "cell_type": "code",
   "execution_count": 42,
   "metadata": {},
   "outputs": [
    {
     "data": {
      "text/html": [
       "<div>\n",
       "<style scoped>\n",
       "    .dataframe tbody tr th:only-of-type {\n",
       "        vertical-align: middle;\n",
       "    }\n",
       "\n",
       "    .dataframe tbody tr th {\n",
       "        vertical-align: top;\n",
       "    }\n",
       "\n",
       "    .dataframe thead th {\n",
       "        text-align: right;\n",
       "    }\n",
       "</style>\n",
       "<table border=\"1\" class=\"dataframe\">\n",
       "  <thead>\n",
       "    <tr style=\"text-align: right;\">\n",
       "      <th></th>\n",
       "      <th>name</th>\n",
       "      <th>sex</th>\n",
       "      <th>name_length</th>\n",
       "    </tr>\n",
       "  </thead>\n",
       "  <tbody>\n",
       "    <tr>\n",
       "      <th>0</th>\n",
       "      <td>Aaban</td>\n",
       "      <td>M</td>\n",
       "      <td>5</td>\n",
       "    </tr>\n",
       "    <tr>\n",
       "      <th>1</th>\n",
       "      <td>Aadan</td>\n",
       "      <td>M</td>\n",
       "      <td>5</td>\n",
       "    </tr>\n",
       "    <tr>\n",
       "      <th>2</th>\n",
       "      <td>Aadarsh</td>\n",
       "      <td>M</td>\n",
       "      <td>7</td>\n",
       "    </tr>\n",
       "    <tr>\n",
       "      <th>3</th>\n",
       "      <td>Aaden</td>\n",
       "      <td>M</td>\n",
       "      <td>5</td>\n",
       "    </tr>\n",
       "    <tr>\n",
       "      <th>4</th>\n",
       "      <td>Aadhav</td>\n",
       "      <td>M</td>\n",
       "      <td>6</td>\n",
       "    </tr>\n",
       "  </tbody>\n",
       "</table>\n",
       "</div>"
      ],
      "text/plain": [
       "      name sex  name_length\n",
       "0    Aaban   M            5\n",
       "1    Aadan   M            5\n",
       "2  Aadarsh   M            7\n",
       "3    Aaden   M            5\n",
       "4   Aadhav   M            6"
      ]
     },
     "execution_count": 42,
     "metadata": {},
     "output_type": "execute_result"
    }
   ],
   "source": [
    "name_gender_df.head()"
   ]
  },
  {
   "cell_type": "markdown",
   "metadata": {},
   "source": [
    "As usual, let's perform some exploratory visual analysis of the data. We can visually compare the distribution of name lengths between males and females using overlapping histograms."
   ]
  },
  {
   "cell_type": "code",
   "execution_count": 43,
   "metadata": {},
   "outputs": [],
   "source": [
    "male_name_lengths = name_gender_df[name_gender_df.sex=='M'].name_length\n",
    "female_name_lengths = name_gender_df[name_gender_df.sex=='F'].name_length\n",
    "\n",
    "min_length = min([min(male_name_lengths), min(female_name_lengths)])\n",
    "max_length = max([max(male_name_lengths), max(female_name_lengths)])\n",
    "\n",
    "bins = np.arange(min_length, max_length) - 0.5 # center bins on length markers"
   ]
  },
  {
   "cell_type": "code",
   "execution_count": 44,
   "metadata": {},
   "outputs": [
    {
     "data": {
      "image/png": "[encoded data removed]",
      "text/plain": [
       "<Figure size 432x288 with 1 Axes>"
      ]
     },
     "metadata": {},
     "output_type": "display_data"
    }
   ],
   "source": [
    "_ = plt.hist(male_name_lengths, alpha = 0.3, density=True, bins=bins)\n",
    "_ = plt.hist(female_name_lengths, alpha = 0.3, density=True, bins=bins)\n",
    "_ = plt.xlabel('Name Length', fontsize=14)\n",
    "_ = plt.ylabel('Probability', fontsize=14)\n",
    "_ = plt.title('Length of Names by Gender', fontsize=18)\n",
    "_ = plt.legend(('M', 'F'), loc='upper right')\n",
    "plt.show()"
   ]
  },
  {
   "cell_type": "markdown",
   "metadata": {},
   "source": [
    "These histograms provide visual evidence that longer names appear to make up a larger proportion of the distribution of female name lengths compared to male name lengths. Stated more simply, we have reason to be believe that female names are longer than male names based on the dataset being analyzed here. Let's now explore if the cumulative distribution functions for these datasets are provide further evidence for this belief."
   ]
  },
  {
   "cell_type": "code",
   "execution_count": 45,
   "metadata": {},
   "outputs": [],
   "source": [
    "# generate data from the ECDF\n",
    "x_male, y_male = dcst.ecdf(male_name_lengths)\n",
    "x_female, y_female = dcst.ecdf(female_name_lengths)"
   ]
  },
  {
   "cell_type": "code",
   "execution_count": 46,
   "metadata": {},
   "outputs": [
    {
     "data": {
      "image/png": "[encoded data removed]",
      "text/plain": [
       "<Figure size 432x288 with 1 Axes>"
      ]
     },
     "metadata": {},
     "output_type": "display_data"
    }
   ],
   "source": [
    "_ = plt.plot(x_male, y_male)\n",
    "_ = plt.plot(x_female, y_female)\n",
    "_ = plt.xlabel('Name Length', fontsize=14)\n",
    "_ = plt.ylabel('CDF', fontsize=14)\n",
    "_ = plt.title('Length of Names by Gender', fontsize=18)\n",
    "_ = plt.legend(('M', 'F'), loc='lower right')\n",
    "plt.show()"
   ]
  },
  {
   "cell_type": "markdown",
   "metadata": {},
   "source": [
    "The ECDFs support what was observed in the histogram plots. A larger percentage of male names have shorter lengths compared to the percentage of female names. Now is a good time to formally state the hypothesis we would like to investigate."
   ]
  },
  {
   "cell_type": "markdown",
   "metadata": {},
   "source": [
    "Hypothesis: Female names are on average the same length as male names according to U.S. Social Security applications.\n",
    "    \n",
    "Test Statistic: Difference in mean name length between female and male applications\n",
    "    \n",
    "The test statistic will be compared to bootstrap replicates to compute the percentage of test statitistics that would be as extreme or more extreme than the value observed."
   ]
  },
  {
   "cell_type": "markdown",
   "metadata": {},
   "source": [
    "Now, let's construct confidence intervals to see if repeated experiments following the same distribution for name lengths supports what we are seeing. We are going to generate bootstrap replicates for both data sets to construct 95% confidence intervals for the mean length of names for each gender."
   ]
  },
  {
   "cell_type": "code",
   "execution_count": 47,
   "metadata": {},
   "outputs": [
    {
     "name": "stdout",
     "output_type": "stream",
     "text": [
      "Average female name length: 6.479281\n",
      "95% Confidence Interval: [6.45839416 6.50078608]\n",
      "Average male name length: 6.179652\n",
      "95% Confidence Interval: [6.14995811 6.2088802 ]\n"
     ]
    }
   ],
   "source": [
    "# setting number of replicates\n",
    "NUM_REPS = 10000\n",
    "\n",
    "# average female name length\n",
    "f_name_length_avg = np.mean(female_name_lengths)\n",
    "\n",
    "# average male name length\n",
    "m_name_length_avg = np.mean(male_name_lengths)\n",
    "\n",
    "# draw 10,000 bootstrap replicates from the female data and construct 95% CI\n",
    "f_bs_reps = dcst.draw_bs_reps(female_name_lengths, np.mean, NUM_REPS)\n",
    "f_conf_inter = np.percentile(f_bs_reps, [2.5, 97.5])\n",
    "\n",
    "# draw 10,000 bootstrap replicates from the male data and construct 95% CI\n",
    "m_bs_reps = dcst.draw_bs_reps(male_name_lengths, np.mean, NUM_REPS)\n",
    "m_conf_inter = np.percentile(m_bs_reps, [2.5, 97.5])\n",
    "\n",
    "print(\"Average female name length: %f\" % f_name_length_avg)\n",
    "print(\"95% Confidence Interval:\", f_conf_inter)\n",
    "print(\"Average male name length: %f\" % m_name_length_avg)\n",
    "print(\"95% Confidence Interval:\", m_conf_inter)"
   ]
  },
  {
   "cell_type": "markdown",
   "metadata": {},
   "source": [
    "Interesting...the average female and male name lengths don't appear to be as different as we might have expected. Let's also look at the 95% confidence interval of the difference in means and calculate a p-value for the observed data."
   ]
  },
  {
   "cell_type": "code",
   "execution_count": 48,
   "metadata": {},
   "outputs": [
    {
     "name": "stdout",
     "output_type": "stream",
     "text": [
      "Difference of means between female and male name lengths: 0.299629\n",
      "95% Confidence Interval: [0.26289908 0.33613037]\n",
      "p = 0.502400\n"
     ]
    }
   ],
   "source": [
    "# difference of observed means\n",
    "diff_means = f_name_length_avg - m_name_length_avg\n",
    "\n",
    "# difference of means between replicates\n",
    "diff_reps = f_bs_reps - m_bs_reps\n",
    "\n",
    "# construct 95% CI\n",
    "diff_conf_inter = np.percentile(diff_reps, [2.5, 97.5])\n",
    "\n",
    "# compute p-value\n",
    "p_val = np.sum(diff_reps >= diff_means) / NUM_REPS\n",
    "\n",
    "print(\"Difference of means between female and male name lengths: %f\" % diff_means)\n",
    "print(\"95% Confidence Interval:\", diff_conf_inter)\n",
    "print(\"p = %f\" % p_val)"
   ]
  },
  {
   "cell_type": "markdown",
   "metadata": {},
   "source": [
    "This difference in means is not a very extreme value. The p-value indicates that through repeatedly running this experiment, about 50% of the time we would expect to observe a difference between average female and male name lengths as extreme if not more extreme than the difference observed from the social security application data. Therefore, we don't have sufficient evidence to reject the hypothesis that the difference in mean name length is different between male and females according to U.S. Social Security applications. To be clear, there is an obvious difference in the means based on the analysis above. However, this difference is too small to conclude that random chance is not responsible for the difference."
   ]
  },
  {
   "cell_type": "markdown",
   "metadata": {},
   "source": [
    "### 4. Name Choice Forecasting"
   ]
  },
  {
   "cell_type": "markdown",
   "metadata": {},
   "source": [
    "Sarah is a very common name. I know and have met quite a few people with this name in my life. This analysis will focus on a specific subset of applicatiions for people named Sarah between the years 1988 to 2018 in the Pacific Coast states (California, Oregon, and Washington). The goal is to use the results of a timeseries analysis of the years under investigation to predict the number of applicatioins for Sarah in 2019."
   ]
  },
  {
   "cell_type": "code",
   "execution_count": 49,
   "metadata": {},
   "outputs": [
    {
     "data": {
      "text/html": [
       "<div>\n",
       "<style scoped>\n",
       "    .dataframe tbody tr th:only-of-type {\n",
       "        vertical-align: middle;\n",
       "    }\n",
       "\n",
       "    .dataframe tbody tr th {\n",
       "        vertical-align: top;\n",
       "    }\n",
       "\n",
       "    .dataframe thead th {\n",
       "        text-align: right;\n",
       "    }\n",
       "</style>\n",
       "<table border=\"1\" class=\"dataframe\">\n",
       "  <thead>\n",
       "    <tr style=\"text-align: right;\">\n",
       "      <th></th>\n",
       "      <th>state</th>\n",
       "      <th>sex</th>\n",
       "      <th>year</th>\n",
       "      <th>name</th>\n",
       "      <th>count</th>\n",
       "    </tr>\n",
       "  </thead>\n",
       "  <tbody>\n",
       "    <tr>\n",
       "      <th>26723</th>\n",
       "      <td>OR</td>\n",
       "      <td>F</td>\n",
       "      <td>1988</td>\n",
       "      <td>Sarah</td>\n",
       "      <td>374</td>\n",
       "    </tr>\n",
       "    <tr>\n",
       "      <th>27283</th>\n",
       "      <td>OR</td>\n",
       "      <td>F</td>\n",
       "      <td>1989</td>\n",
       "      <td>Sarah</td>\n",
       "      <td>354</td>\n",
       "    </tr>\n",
       "    <tr>\n",
       "      <th>27851</th>\n",
       "      <td>OR</td>\n",
       "      <td>F</td>\n",
       "      <td>1990</td>\n",
       "      <td>Sarah</td>\n",
       "      <td>296</td>\n",
       "    </tr>\n",
       "    <tr>\n",
       "      <th>28453</th>\n",
       "      <td>OR</td>\n",
       "      <td>F</td>\n",
       "      <td>1991</td>\n",
       "      <td>Sarah</td>\n",
       "      <td>305</td>\n",
       "    </tr>\n",
       "    <tr>\n",
       "      <th>29053</th>\n",
       "      <td>OR</td>\n",
       "      <td>F</td>\n",
       "      <td>1992</td>\n",
       "      <td>Sarah</td>\n",
       "      <td>283</td>\n",
       "    </tr>\n",
       "  </tbody>\n",
       "</table>\n",
       "</div>"
      ],
      "text/plain": [
       "      state sex  year   name  count\n",
       "26723    OR   F  1988  Sarah    374\n",
       "27283    OR   F  1989  Sarah    354\n",
       "27851    OR   F  1990  Sarah    296\n",
       "28453    OR   F  1991  Sarah    305\n",
       "29053    OR   F  1992  Sarah    283"
      ]
     },
     "execution_count": 49,
     "metadata": {},
     "output_type": "execute_result"
    }
   ],
   "source": [
    "# filter for Sarah applications, between from 1988 through 2018 in California, Oregon, and Washington\n",
    "df[(df.name==\"Sarah\") & (df.year.isin(range(1988, 2019))) & (df.state.isin([\"CA\",\"OR\",\"WA\"]))].head()"
   ]
  },
  {
   "cell_type": "code",
   "execution_count": 50,
   "metadata": {},
   "outputs": [
    {
     "data": {
      "text/html": [
       "<div>\n",
       "<style scoped>\n",
       "    .dataframe tbody tr th:only-of-type {\n",
       "        vertical-align: middle;\n",
       "    }\n",
       "\n",
       "    .dataframe tbody tr th {\n",
       "        vertical-align: top;\n",
       "    }\n",
       "\n",
       "    .dataframe thead th {\n",
       "        text-align: right;\n",
       "    }\n",
       "</style>\n",
       "<table border=\"1\" class=\"dataframe\">\n",
       "  <thead>\n",
       "    <tr style=\"text-align: right;\">\n",
       "      <th></th>\n",
       "      <th>count</th>\n",
       "    </tr>\n",
       "    <tr>\n",
       "      <th>year</th>\n",
       "      <th></th>\n",
       "    </tr>\n",
       "  </thead>\n",
       "  <tbody>\n",
       "    <tr>\n",
       "      <th>1988</th>\n",
       "      <td>3969</td>\n",
       "    </tr>\n",
       "    <tr>\n",
       "      <th>1989</th>\n",
       "      <td>3972</td>\n",
       "    </tr>\n",
       "    <tr>\n",
       "      <th>1990</th>\n",
       "      <td>3707</td>\n",
       "    </tr>\n",
       "    <tr>\n",
       "      <th>1991</th>\n",
       "      <td>3604</td>\n",
       "    </tr>\n",
       "    <tr>\n",
       "      <th>1992</th>\n",
       "      <td>3531</td>\n",
       "    </tr>\n",
       "  </tbody>\n",
       "</table>\n",
       "</div>"
      ],
      "text/plain": [
       "      count\n",
       "year       \n",
       "1988   3969\n",
       "1989   3972\n",
       "1990   3707\n",
       "1991   3604\n",
       "1992   3531"
      ]
     },
     "execution_count": 50,
     "metadata": {},
     "output_type": "execute_result"
    }
   ],
   "source": [
    "# create a dataframe with just the summed (for the 3 states) data of interest\n",
    "sub_df = df[\n",
    "            (df.name==\"Sarah\") & \n",
    "            (df.year.isin(range(1988, 2019))) & \n",
    "            (df.state.isin([\"CA\",\"OR\",\"WA\"]))\n",
    "        ][[\"year\", \"count\"]].groupby([\"year\"]).sum()\n",
    "sub_df.head()"
   ]
  },
  {
   "cell_type": "code",
   "execution_count": 51,
   "metadata": {},
   "outputs": [
    {
     "data": {
      "image/png": "[encoded data removed]",
      "text/plain": [
       "<Figure size 864x360 with 1 Axes>"
      ]
     },
     "metadata": {},
     "output_type": "display_data"
    }
   ],
   "source": [
    "ax = sub_df.plot(legend=False, figsize=(12, 5))\n",
    "plt.title(\"Applications for Sarah by Year\", size=16)\n",
    "plt.xlabel(\"Year\", size = 14)\n",
    "plt.ylabel(\"Frequency\", size = 14)\n",
    "plt.xticks(size = 12)\n",
    "plt.yticks(size = 12)\n",
    "plt.show()"
   ]
  },
  {
   "cell_type": "markdown",
   "metadata": {},
   "source": [
    "A plot of the number of people named \"Sarah\" that were born each year from 1988-2018 in the Pacific Coast states can be found in the figure above. The plot shows a decreasing number of peopled named \"Sarah\" throughout the 30 year period under investigation. "
   ]
  },
  {
   "cell_type": "code",
   "execution_count": 52,
   "metadata": {},
   "outputs": [
    {
     "data": {
      "text/html": [
       "<div>\n",
       "<style scoped>\n",
       "    .dataframe tbody tr th:only-of-type {\n",
       "        vertical-align: middle;\n",
       "    }\n",
       "\n",
       "    .dataframe tbody tr th {\n",
       "        vertical-align: top;\n",
       "    }\n",
       "\n",
       "    .dataframe thead th {\n",
       "        text-align: right;\n",
       "    }\n",
       "</style>\n",
       "<table border=\"1\" class=\"dataframe\">\n",
       "  <thead>\n",
       "    <tr style=\"text-align: right;\">\n",
       "      <th></th>\n",
       "      <th>count</th>\n",
       "    </tr>\n",
       "    <tr>\n",
       "      <th>year</th>\n",
       "      <th></th>\n",
       "    </tr>\n",
       "  </thead>\n",
       "  <tbody>\n",
       "    <tr>\n",
       "      <th>1988</th>\n",
       "      <td>575020</td>\n",
       "    </tr>\n",
       "    <tr>\n",
       "      <th>1989</th>\n",
       "      <td>611551</td>\n",
       "    </tr>\n",
       "    <tr>\n",
       "      <th>1990</th>\n",
       "      <td>656204</td>\n",
       "    </tr>\n",
       "    <tr>\n",
       "      <th>1991</th>\n",
       "      <td>652698</td>\n",
       "    </tr>\n",
       "    <tr>\n",
       "      <th>1992</th>\n",
       "      <td>643692</td>\n",
       "    </tr>\n",
       "  </tbody>\n",
       "</table>\n",
       "</div>"
      ],
      "text/plain": [
       "       count\n",
       "year        \n",
       "1988  575020\n",
       "1989  611551\n",
       "1990  656204\n",
       "1991  652698\n",
       "1992  643692"
      ]
     },
     "execution_count": 52,
     "metadata": {},
     "output_type": "execute_result"
    }
   ],
   "source": [
    "# get the total number of applications in the 3 states over this time period\n",
    "sub_tot_df = df[\n",
    "            (df.year.isin(range(1988, 2019))) & \n",
    "            (df.state.isin([\"CA\",\"OR\",\"WA\"]))\n",
    "        ][[\"year\", \"count\"]].groupby([\"year\"]).sum()\n",
    "sub_tot_df.head()"
   ]
  },
  {
   "cell_type": "code",
   "execution_count": 53,
   "metadata": {},
   "outputs": [
    {
     "data": {
      "image/png": "[encoded data removed]",
      "text/plain": [
       "<Figure size 864x360 with 1 Axes>"
      ]
     },
     "metadata": {},
     "output_type": "display_data"
    }
   ],
   "source": [
    "ax = (sub_df/sub_tot_df).plot(legend=False, figsize=(12, 5))\n",
    "plt.title(\"Proportion of Applications for Sarah by Year\", size=16)\n",
    "plt.xlabel(\"Year\", size = 14)\n",
    "plt.ylabel(\"Proportion\", size = 14)\n",
    "plt.xticks(size = 12)\n",
    "plt.yticks(size = 12)\n",
    "plt.show()"
   ]
  },
  {
   "cell_type": "markdown",
   "metadata": {},
   "source": [
    "However, to account for any differences that may be due to birth rates in each year, the plot above is the same data as a proportion of the total number of Social Security applications from these states each year. There seems to be a bit of a leveling off with regards to the frequency of the name Sarah in these states during the final years under analysis. It is very clear that the popularity of the name \"Sarah\" is declining within this time period."
   ]
  },
  {
   "cell_type": "code",
   "execution_count": 54,
   "metadata": {},
   "outputs": [
    {
     "data": {
      "text/html": [
       "<div>\n",
       "<style scoped>\n",
       "    .dataframe tbody tr th:only-of-type {\n",
       "        vertical-align: middle;\n",
       "    }\n",
       "\n",
       "    .dataframe tbody tr th {\n",
       "        vertical-align: top;\n",
       "    }\n",
       "\n",
       "    .dataframe thead th {\n",
       "        text-align: right;\n",
       "    }\n",
       "</style>\n",
       "<table border=\"1\" class=\"dataframe\">\n",
       "  <thead>\n",
       "    <tr style=\"text-align: right;\">\n",
       "      <th></th>\n",
       "      <th>prop</th>\n",
       "    </tr>\n",
       "    <tr>\n",
       "      <th>year</th>\n",
       "      <th></th>\n",
       "    </tr>\n",
       "  </thead>\n",
       "  <tbody>\n",
       "    <tr>\n",
       "      <th>1988</th>\n",
       "      <td>0.006902</td>\n",
       "    </tr>\n",
       "    <tr>\n",
       "      <th>1989</th>\n",
       "      <td>0.006495</td>\n",
       "    </tr>\n",
       "    <tr>\n",
       "      <th>1990</th>\n",
       "      <td>0.005649</td>\n",
       "    </tr>\n",
       "    <tr>\n",
       "      <th>1991</th>\n",
       "      <td>0.005522</td>\n",
       "    </tr>\n",
       "    <tr>\n",
       "      <th>1992</th>\n",
       "      <td>0.005486</td>\n",
       "    </tr>\n",
       "  </tbody>\n",
       "</table>\n",
       "</div>"
      ],
      "text/plain": [
       "          prop\n",
       "year          \n",
       "1988  0.006902\n",
       "1989  0.006495\n",
       "1990  0.005649\n",
       "1991  0.005522\n",
       "1992  0.005486"
      ]
     },
     "execution_count": 54,
     "metadata": {},
     "output_type": "execute_result"
    }
   ],
   "source": [
    "sarah_df = sub_df/sub_tot_df\n",
    "sarah_df.rename(columns={'count': 'prop'}, inplace=True)\n",
    "sarah_df.head()"
   ]
  },
  {
   "cell_type": "markdown",
   "metadata": {},
   "source": [
    "To provide future predictions for the year 2019, we can use an Autoregressive Integrated Moving Average (ARIMA) Model and reduce over-fitting by using a walk-forward optimization approach for fitting the model. An ARIMA model has a few parameters which need to be provided. One required parameter is the number of periods of data that should be considered in making a prediction (a.k.a. the \"lag\"). It is useful to plot the autocorrelation in the data in order to determine this parameter."
   ]
  },
  {
   "cell_type": "code",
   "execution_count": 55,
   "metadata": {},
   "outputs": [
    {
     "data": {
      "image/png": "[encoded data removed]",
      "text/plain": [
       "<Figure size 432x288 with 1 Axes>"
      ]
     },
     "metadata": {},
     "output_type": "display_data"
    }
   ],
   "source": [
    "_ = autocorrelation_plot(sarah_df)\n",
    "plt.show()"
   ]
  },
  {
   "cell_type": "markdown",
   "metadata": {},
   "source": [
    "There is a positive correlation in this data within the first 10-12 lags. If we consider an autocorrelation at or above 0.5 to be signficant, the first 6 lags meet this threshold. Therefore, a lag order of 6 for this model seems reasonable (p=6)."
   ]
  },
  {
   "cell_type": "markdown",
   "metadata": {},
   "source": [
    "Because we want the time series to be stationary (meaning that the the process which generates the time series is consistent over time), it is necessary to first see if the data is stationary. This can be done using the Kwiatkowski-Phillips-Schmidt-Shin (KPSS) test for stationarity. The null hypothesis for this test is that the observed data is stationary."
   ]
  },
  {
   "cell_type": "code",
   "execution_count": 56,
   "metadata": {},
   "outputs": [],
   "source": [
    "# execute the KPSS test\n",
    "kpss_stat, p_val, _, crit = kpss(sarah_df, nlags='legacy')"
   ]
  },
  {
   "cell_type": "code",
   "execution_count": 57,
   "metadata": {},
   "outputs": [
    {
     "data": {
      "text/plain": [
       "(0.43559244539655906,\n",
       " 0.06181360112217283,\n",
       " {'10%': 0.347, '5%': 0.463, '2.5%': 0.574, '1%': 0.739})"
      ]
     },
     "execution_count": 57,
     "metadata": {},
     "output_type": "execute_result"
    }
   ],
   "source": [
    "kpss_stat, p_val, crit"
   ]
  },
  {
   "cell_type": "markdown",
   "metadata": {},
   "source": [
    "We would expect to see a test statistic that is this large or greater a little over 6% of the time. The null hypothesis is that the observations are stationary. Therefore, we have some confidence that we can safely consider these observations to be stationary. While we can move forward with an ARIMA model without differencing, it is worthwhile to determine if we can have more confidence in the stationarity of the observations after applying differencing. The numpy *diff()* function performs differencing on the data."
   ]
  },
  {
   "cell_type": "code",
   "execution_count": 58,
   "metadata": {},
   "outputs": [],
   "source": [
    "kpss_stat, p_val, _, crit = kpss(np.diff(sarah_df['prop']))"
   ]
  },
  {
   "cell_type": "code",
   "execution_count": 59,
   "metadata": {},
   "outputs": [
    {
     "data": {
      "text/plain": [
       "(0.3335558039439202,\n",
       " 0.1,\n",
       " {'10%': 0.347, '5%': 0.463, '2.5%': 0.574, '1%': 0.739})"
      ]
     },
     "execution_count": 59,
     "metadata": {},
     "output_type": "execute_result"
    }
   ],
   "source": [
    "kpss_stat, p_val, crit"
   ]
  },
  {
   "cell_type": "markdown",
   "metadata": {},
   "source": [
    "Based on the differenced observations, we would expect to see a test statistic that is this large or greater about 10% of the time. Again the null hypothesis is that the observations are stationary. After differencing, the observations can be more confidently assumed to be stationary. Therefore, we will be performing differencing in this model (d=1)."
   ]
  },
  {
   "cell_type": "markdown",
   "metadata": {},
   "source": [
    "In the interest of simplicity, this model will not incorporate a moving average window (q=0)."
   ]
  },
  {
   "cell_type": "markdown",
   "metadata": {},
   "source": [
    "Recall the autocorrelation plot generated previously. The lag number producing the highest correlation appears to be around 6 or 7 lag periods:"
   ]
  },
  {
   "cell_type": "code",
   "execution_count": 60,
   "metadata": {},
   "outputs": [
    {
     "data": {
      "image/png": "[encoded data removed]",
      "text/plain": [
       "<Figure size 432x288 with 1 Axes>"
      ]
     },
     "metadata": {},
     "output_type": "display_data"
    }
   ],
   "source": [
    "_ = autocorrelation_plot(sarah_df)\n",
    "plt.show()"
   ]
  },
  {
   "cell_type": "markdown",
   "metadata": {},
   "source": [
    "Perhaps, the right cut-off in lag periods is 8. It's not completely clear from the plot. Addressing the problem of which lag order produces the best model can be determined by using the data that is available for testing model performance for each of the 3 possible values for the lag order."
   ]
  },
  {
   "cell_type": "markdown",
   "metadata": {},
   "source": [
    "Specifically, the following procedure will be used to test the performance of models of different lag orders:  \n",
    "1. Split the data into a training and testing set (70/30)\n",
    "1. For each of the lag periods being tested,\n",
    "    1. For each observation in the test set of observations\n",
    "        1. Create model for window of time\n",
    "        1. Fit the model\n",
    "        1. Predict the proportion of applications using the name Sarah for the next year using the model\n",
    "        1. Record the prediction\n",
    "        1. Add the next observation from the observed data that is outside of the current sample to the training data\n",
    "    1. Calculate the mean squared error between the predicted proportions and the observed proportions\n",
    "1. Finally, choose lag order that generates the smallest mean squared error"
   ]
  },
  {
   "cell_type": "markdown",
   "metadata": {},
   "source": [
    "By using this approach, we can optimize the parameters (specifically, lag order) in the model. "
   ]
  },
  {
   "cell_type": "code",
   "execution_count": 61,
   "metadata": {},
   "outputs": [],
   "source": [
    "# set up the mode\n",
    "TEST_PORTION = 0.7\n",
    "DIFF = 1 \n",
    "MOV_AVG = 0\n",
    "X = sarah_df['prop'].values\n",
    "test_size = int(len(X) * TEST_PORTION)\n",
    "X_train, X_test = X[0:test_size], X[test_size:len(X)]\n",
    "lag_order_errors = {\n",
    "                    6: \n",
    "                        {\n",
    "                            'pred': [],\n",
    "                            'error': np.inf\n",
    "                        },\n",
    "                    7: \n",
    "                        {\n",
    "                            'pred': [],\n",
    "                            'error': np.inf\n",
    "                        }, \n",
    "                    8: \n",
    "                        {\n",
    "                            'pred': [],\n",
    "                            'error': np.inf\n",
    "                        },\n",
    "}"
   ]
  },
  {
   "cell_type": "code",
   "execution_count": 62,
   "metadata": {},
   "outputs": [],
   "source": [
    "# create models for each of the candidate lag orders to monitor mean square error\n",
    "for lag_order in sorted(lag_order_errors.keys()):\n",
    "    sample = [prop for prop in X_train]\n",
    "    predictions = []\n",
    "    for test_idx in range(len(X_test)):\n",
    "        model = ARIMA(sample, order=(lag_order, DIFF, MOV_AVG))\n",
    "        fit_model = model.fit(disp=0)\n",
    "        forecast, stderr, conf_int = fit_model.forecast()\n",
    "        predictions.append(forecast[0]) # just want number\n",
    "        next_obs = X_test[test_idx]\n",
    "        sample.append(next_obs)\n",
    "    mse = mean_squared_error(X_test, predictions)\n",
    "    lag_order_errors[lag_order]['error'] = mse\n",
    "    lag_order_errors[lag_order]['pred'] = predictions"
   ]
  },
  {
   "cell_type": "code",
   "execution_count": 63,
   "metadata": {},
   "outputs": [],
   "source": [
    "# create a dataframe for the purpose of easily plotting the results\n",
    "pred_df = pd.DataFrame(\n",
    "                {\n",
    "                    lag_order: lag_order_errors[lag_order]['pred'] \n",
    "                    for lag_order in sorted(lag_order_errors.keys())\n",
    "                },\n",
    "                index = pd.to_datetime(\n",
    "                    sarah_df.index[len(X_train):].astype(str),\n",
    "                    utc=False,\n",
    "                    format='%Y-%m-%d'\n",
    "                )\n",
    ")\n",
    "pred_df['actual'] = X_test"
   ]
  },
  {
   "cell_type": "code",
   "execution_count": 64,
   "metadata": {},
   "outputs": [
    {
     "data": {
      "image/png": "[encoded data removed]",
      "text/plain": [
       "<Figure size 864x360 with 1 Axes>"
      ]
     },
     "metadata": {},
     "output_type": "display_data"
    }
   ],
   "source": [
    "# plot the results\n",
    "_ = pred_df.plot(figsize=(12, 5))\n",
    "plt.show()"
   ]
  },
  {
   "cell_type": "markdown",
   "metadata": {},
   "source": [
    "The predictions diverge to a greater extent from the actual proportions that were observed as the model gets further away from the observations in the training set. However, the smallest error comes from a lag order of 6. Therefore, this is the lag order that will be used to predict the proportion of baby's to be named Sarah in 2019."
   ]
  },
  {
   "cell_type": "code",
   "execution_count": 65,
   "metadata": {},
   "outputs": [],
   "source": [
    "LAG_ORDER = 6\n",
    "model = ARIMA(X, order=(LAG_ORDER, DIFF, MOV_AVG))\n",
    "fit_model = model.fit(disp=0)\n",
    "forecast, stderr, conf_int = fit_model.forecast()"
   ]
  },
  {
   "cell_type": "code",
   "execution_count": 66,
   "metadata": {},
   "outputs": [
    {
     "data": {
      "text/plain": [
       "array([0.00070887])"
      ]
     },
     "execution_count": 66,
     "metadata": {},
     "output_type": "execute_result"
    }
   ],
   "source": [
    "forecast"
   ]
  },
  {
   "cell_type": "markdown",
   "metadata": {},
   "source": [
    "This result indicates that about 0.07% of Social Security applications from California, Oregon, and Washington will have an applicant with the name Sarah."
   ]
  },
  {
   "cell_type": "markdown",
   "metadata": {},
   "source": [
    "### 5. State-specific Name Popularity"
   ]
  },
  {
   "cell_type": "markdown",
   "metadata": {},
   "source": [
    "To finish this exploration of baby names based on Social Security applications, it would be interesting to understand how name popularity might have state-specific popularity trends. This exploration will be focused on male names in 2015. The goal is to find the male name in each state that is most \"specific\" to that state."
   ]
  },
  {
   "cell_type": "markdown",
   "metadata": {},
   "source": [
    "Term Frequency-Inverse Document Frequency (TF-IDF) is a frequency weighting technique from information retrieval which weights words that occur frequently in one or a few \"documents\" and decreases the weight of words that are common to a corpus of documents. In this analysis, states can be considered documents and the count of names will be transformed using this technique. The result will be scores that reflect the names most often associated to a particular state while keeping the weight of outliers low and, simultaneously, lowering the weights of names common to many of the states."
   ]
  },
  {
   "cell_type": "code",
   "execution_count": 67,
   "metadata": {},
   "outputs": [
    {
     "data": {
      "text/html": [
       "<div>\n",
       "<style scoped>\n",
       "    .dataframe tbody tr th:only-of-type {\n",
       "        vertical-align: middle;\n",
       "    }\n",
       "\n",
       "    .dataframe tbody tr th {\n",
       "        vertical-align: top;\n",
       "    }\n",
       "\n",
       "    .dataframe thead th {\n",
       "        text-align: right;\n",
       "    }\n",
       "</style>\n",
       "<table border=\"1\" class=\"dataframe\">\n",
       "  <thead>\n",
       "    <tr style=\"text-align: right;\">\n",
       "      <th></th>\n",
       "      <th>state</th>\n",
       "      <th>name</th>\n",
       "      <th>count</th>\n",
       "    </tr>\n",
       "  </thead>\n",
       "  <tbody>\n",
       "    <tr>\n",
       "      <th>134451</th>\n",
       "      <td>IN</td>\n",
       "      <td>Liam</td>\n",
       "      <td>407</td>\n",
       "    </tr>\n",
       "    <tr>\n",
       "      <th>134452</th>\n",
       "      <td>IN</td>\n",
       "      <td>Noah</td>\n",
       "      <td>404</td>\n",
       "    </tr>\n",
       "    <tr>\n",
       "      <th>134453</th>\n",
       "      <td>IN</td>\n",
       "      <td>Oliver</td>\n",
       "      <td>384</td>\n",
       "    </tr>\n",
       "    <tr>\n",
       "      <th>134454</th>\n",
       "      <td>IN</td>\n",
       "      <td>Elijah</td>\n",
       "      <td>375</td>\n",
       "    </tr>\n",
       "    <tr>\n",
       "      <th>134455</th>\n",
       "      <td>IN</td>\n",
       "      <td>Mason</td>\n",
       "      <td>356</td>\n",
       "    </tr>\n",
       "  </tbody>\n",
       "</table>\n",
       "</div>"
      ],
      "text/plain": [
       "       state    name  count\n",
       "134451    IN    Liam    407\n",
       "134452    IN    Noah    404\n",
       "134453    IN  Oliver    384\n",
       "134454    IN  Elijah    375\n",
       "134455    IN   Mason    356"
      ]
     },
     "execution_count": 67,
     "metadata": {},
     "output_type": "execute_result"
    }
   ],
   "source": [
    "# get all male names by state in 2015 removing names provided as \"Unknown\" and \"Male\"\n",
    "males_2015 = df[(df.sex==\"M\") & (df.year==2015) & (~df.name.isin([\"Unknown\", \"Male\"]))][[\"state\", \"name\", \"count\"]]\n",
    "males_2015.head()"
   ]
  },
  {
   "cell_type": "code",
   "execution_count": 68,
   "metadata": {},
   "outputs": [
    {
     "data": {
      "text/html": [
       "<div>\n",
       "<style scoped>\n",
       "    .dataframe tbody tr th:only-of-type {\n",
       "        vertical-align: middle;\n",
       "    }\n",
       "\n",
       "    .dataframe tbody tr th {\n",
       "        vertical-align: top;\n",
       "    }\n",
       "\n",
       "    .dataframe thead th {\n",
       "        text-align: right;\n",
       "    }\n",
       "</style>\n",
       "<table border=\"1\" class=\"dataframe\">\n",
       "  <thead>\n",
       "    <tr style=\"text-align: right;\">\n",
       "      <th>name</th>\n",
       "      <th>Aaden</th>\n",
       "      <th>Aadhav</th>\n",
       "      <th>Aadi</th>\n",
       "      <th>Aadit</th>\n",
       "      <th>Aaditya</th>\n",
       "      <th>Aadvik</th>\n",
       "      <th>Aahan</th>\n",
       "      <th>Aahil</th>\n",
       "      <th>Aaiden</th>\n",
       "      <th>Aamir</th>\n",
       "      <th>...</th>\n",
       "      <th>Zyan</th>\n",
       "      <th>Zyion</th>\n",
       "      <th>Zyir</th>\n",
       "      <th>Zylan</th>\n",
       "      <th>Zylen</th>\n",
       "      <th>Zyler</th>\n",
       "      <th>Zymere</th>\n",
       "      <th>Zymir</th>\n",
       "      <th>Zyon</th>\n",
       "      <th>Zyron</th>\n",
       "    </tr>\n",
       "    <tr>\n",
       "      <th>state</th>\n",
       "      <th></th>\n",
       "      <th></th>\n",
       "      <th></th>\n",
       "      <th></th>\n",
       "      <th></th>\n",
       "      <th></th>\n",
       "      <th></th>\n",
       "      <th></th>\n",
       "      <th></th>\n",
       "      <th></th>\n",
       "      <th></th>\n",
       "      <th></th>\n",
       "      <th></th>\n",
       "      <th></th>\n",
       "      <th></th>\n",
       "      <th></th>\n",
       "      <th></th>\n",
       "      <th></th>\n",
       "      <th></th>\n",
       "      <th></th>\n",
       "      <th></th>\n",
       "    </tr>\n",
       "  </thead>\n",
       "  <tbody>\n",
       "    <tr>\n",
       "      <th>AK</th>\n",
       "      <td>0.0</td>\n",
       "      <td>0.0</td>\n",
       "      <td>0.0</td>\n",
       "      <td>0.0</td>\n",
       "      <td>0.0</td>\n",
       "      <td>0.0</td>\n",
       "      <td>0.0</td>\n",
       "      <td>0.0</td>\n",
       "      <td>0.0</td>\n",
       "      <td>0.0</td>\n",
       "      <td>...</td>\n",
       "      <td>0.0</td>\n",
       "      <td>0.0</td>\n",
       "      <td>0.0</td>\n",
       "      <td>0.0</td>\n",
       "      <td>0.0</td>\n",
       "      <td>0.0</td>\n",
       "      <td>0.0</td>\n",
       "      <td>0.0</td>\n",
       "      <td>0.0</td>\n",
       "      <td>0.0</td>\n",
       "    </tr>\n",
       "    <tr>\n",
       "      <th>AL</th>\n",
       "      <td>5.0</td>\n",
       "      <td>0.0</td>\n",
       "      <td>0.0</td>\n",
       "      <td>0.0</td>\n",
       "      <td>0.0</td>\n",
       "      <td>0.0</td>\n",
       "      <td>0.0</td>\n",
       "      <td>0.0</td>\n",
       "      <td>0.0</td>\n",
       "      <td>0.0</td>\n",
       "      <td>...</td>\n",
       "      <td>0.0</td>\n",
       "      <td>0.0</td>\n",
       "      <td>0.0</td>\n",
       "      <td>0.0</td>\n",
       "      <td>0.0</td>\n",
       "      <td>0.0</td>\n",
       "      <td>0.0</td>\n",
       "      <td>0.0</td>\n",
       "      <td>0.0</td>\n",
       "      <td>0.0</td>\n",
       "    </tr>\n",
       "    <tr>\n",
       "      <th>AR</th>\n",
       "      <td>0.0</td>\n",
       "      <td>0.0</td>\n",
       "      <td>0.0</td>\n",
       "      <td>0.0</td>\n",
       "      <td>0.0</td>\n",
       "      <td>0.0</td>\n",
       "      <td>0.0</td>\n",
       "      <td>0.0</td>\n",
       "      <td>0.0</td>\n",
       "      <td>0.0</td>\n",
       "      <td>...</td>\n",
       "      <td>0.0</td>\n",
       "      <td>0.0</td>\n",
       "      <td>0.0</td>\n",
       "      <td>0.0</td>\n",
       "      <td>0.0</td>\n",
       "      <td>0.0</td>\n",
       "      <td>0.0</td>\n",
       "      <td>0.0</td>\n",
       "      <td>0.0</td>\n",
       "      <td>0.0</td>\n",
       "    </tr>\n",
       "    <tr>\n",
       "      <th>AZ</th>\n",
       "      <td>15.0</td>\n",
       "      <td>0.0</td>\n",
       "      <td>0.0</td>\n",
       "      <td>0.0</td>\n",
       "      <td>0.0</td>\n",
       "      <td>0.0</td>\n",
       "      <td>0.0</td>\n",
       "      <td>0.0</td>\n",
       "      <td>0.0</td>\n",
       "      <td>0.0</td>\n",
       "      <td>...</td>\n",
       "      <td>0.0</td>\n",
       "      <td>0.0</td>\n",
       "      <td>0.0</td>\n",
       "      <td>0.0</td>\n",
       "      <td>0.0</td>\n",
       "      <td>0.0</td>\n",
       "      <td>0.0</td>\n",
       "      <td>0.0</td>\n",
       "      <td>0.0</td>\n",
       "      <td>0.0</td>\n",
       "    </tr>\n",
       "    <tr>\n",
       "      <th>CA</th>\n",
       "      <td>34.0</td>\n",
       "      <td>8.0</td>\n",
       "      <td>6.0</td>\n",
       "      <td>6.0</td>\n",
       "      <td>0.0</td>\n",
       "      <td>7.0</td>\n",
       "      <td>7.0</td>\n",
       "      <td>11.0</td>\n",
       "      <td>13.0</td>\n",
       "      <td>9.0</td>\n",
       "      <td>...</td>\n",
       "      <td>8.0</td>\n",
       "      <td>0.0</td>\n",
       "      <td>0.0</td>\n",
       "      <td>0.0</td>\n",
       "      <td>0.0</td>\n",
       "      <td>6.0</td>\n",
       "      <td>0.0</td>\n",
       "      <td>0.0</td>\n",
       "      <td>7.0</td>\n",
       "      <td>0.0</td>\n",
       "    </tr>\n",
       "  </tbody>\n",
       "</table>\n",
       "<p>5 rows × 4406 columns</p>\n",
       "</div>"
      ],
      "text/plain": [
       "name   Aaden  Aadhav  Aadi  Aadit  Aaditya  Aadvik  Aahan  Aahil  Aaiden  \\\n",
       "state                                                                      \n",
       "AK       0.0     0.0   0.0    0.0      0.0     0.0    0.0    0.0     0.0   \n",
       "AL       5.0     0.0   0.0    0.0      0.0     0.0    0.0    0.0     0.0   \n",
       "AR       0.0     0.0   0.0    0.0      0.0     0.0    0.0    0.0     0.0   \n",
       "AZ      15.0     0.0   0.0    0.0      0.0     0.0    0.0    0.0     0.0   \n",
       "CA      34.0     8.0   6.0    6.0      0.0     7.0    7.0   11.0    13.0   \n",
       "\n",
       "name   Aamir  ...  Zyan  Zyion  Zyir  Zylan  Zylen  Zyler  Zymere  Zymir  \\\n",
       "state         ...                                                          \n",
       "AK       0.0  ...   0.0    0.0   0.0    0.0    0.0    0.0     0.0    0.0   \n",
       "AL       0.0  ...   0.0    0.0   0.0    0.0    0.0    0.0     0.0    0.0   \n",
       "AR       0.0  ...   0.0    0.0   0.0    0.0    0.0    0.0     0.0    0.0   \n",
       "AZ       0.0  ...   0.0    0.0   0.0    0.0    0.0    0.0     0.0    0.0   \n",
       "CA       9.0  ...   8.0    0.0   0.0    0.0    0.0    6.0     0.0    0.0   \n",
       "\n",
       "name   Zyon  Zyron  \n",
       "state               \n",
       "AK      0.0    0.0  \n",
       "AL      0.0    0.0  \n",
       "AR      0.0    0.0  \n",
       "AZ      0.0    0.0  \n",
       "CA      7.0    0.0  \n",
       "\n",
       "[5 rows x 4406 columns]"
      ]
     },
     "execution_count": 68,
     "metadata": {},
     "output_type": "execute_result"
    }
   ],
   "source": [
    "# create a matrix with states on rows and names on column to apply TF-IDF calculation\n",
    "state_names = males_2015.pivot(index='state', columns='name', values='count').fillna(0)\n",
    "state_names.head()"
   ]
  },
  {
   "cell_type": "code",
   "execution_count": 69,
   "metadata": {},
   "outputs": [],
   "source": [
    "tfidf = TfidfTransformer(sublinear_tf=True)\n",
    "scores = tfidf.fit_transform(state_names)"
   ]
  },
  {
   "cell_type": "code",
   "execution_count": 70,
   "metadata": {},
   "outputs": [],
   "source": [
    "scores_df = pd.DataFrame(scores.todense(), index=state_names.index.values, columns=state_names.columns.values)"
   ]
  },
  {
   "cell_type": "markdown",
   "metadata": {},
   "source": [
    "The highest scoring male name for each state in 2015 can be found in the table below."
   ]
  },
  {
   "cell_type": "code",
   "execution_count": 71,
   "metadata": {},
   "outputs": [
    {
     "data": {
      "text/html": [
       "<div>\n",
       "<style scoped>\n",
       "    .dataframe tbody tr th:only-of-type {\n",
       "        vertical-align: middle;\n",
       "    }\n",
       "\n",
       "    .dataframe tbody tr th {\n",
       "        vertical-align: top;\n",
       "    }\n",
       "\n",
       "    .dataframe thead th {\n",
       "        text-align: right;\n",
       "    }\n",
       "</style>\n",
       "<table border=\"1\" class=\"dataframe\">\n",
       "  <thead>\n",
       "    <tr style=\"text-align: right;\">\n",
       "      <th></th>\n",
       "      <th>Name</th>\n",
       "    </tr>\n",
       "  </thead>\n",
       "  <tbody>\n",
       "    <tr>\n",
       "      <th>AK</th>\n",
       "      <td>Paxson</td>\n",
       "    </tr>\n",
       "    <tr>\n",
       "      <th>AL</th>\n",
       "      <td>Crimson</td>\n",
       "    </tr>\n",
       "    <tr>\n",
       "      <th>AR</th>\n",
       "      <td>Rush</td>\n",
       "    </tr>\n",
       "    <tr>\n",
       "      <th>AZ</th>\n",
       "      <td>Iram</td>\n",
       "    </tr>\n",
       "    <tr>\n",
       "      <th>CA</th>\n",
       "      <td>Arley</td>\n",
       "    </tr>\n",
       "    <tr>\n",
       "      <th>CO</th>\n",
       "      <td>Aziah</td>\n",
       "    </tr>\n",
       "    <tr>\n",
       "      <th>CT</th>\n",
       "      <td>Remi</td>\n",
       "    </tr>\n",
       "    <tr>\n",
       "      <th>DC</th>\n",
       "      <td>Nahom</td>\n",
       "    </tr>\n",
       "    <tr>\n",
       "      <th>DE</th>\n",
       "      <td>Zyaire</td>\n",
       "    </tr>\n",
       "    <tr>\n",
       "      <th>FL</th>\n",
       "      <td>Demir</td>\n",
       "    </tr>\n",
       "    <tr>\n",
       "      <th>GA</th>\n",
       "      <td>Hutson</td>\n",
       "    </tr>\n",
       "    <tr>\n",
       "      <th>HI</th>\n",
       "      <td>Kaimana</td>\n",
       "    </tr>\n",
       "    <tr>\n",
       "      <th>IA</th>\n",
       "      <td>Kinnick</td>\n",
       "    </tr>\n",
       "    <tr>\n",
       "      <th>ID</th>\n",
       "      <td>Taysom</td>\n",
       "    </tr>\n",
       "    <tr>\n",
       "      <th>IL</th>\n",
       "      <td>Szymon</td>\n",
       "    </tr>\n",
       "    <tr>\n",
       "      <th>IN</th>\n",
       "      <td>Bawi</td>\n",
       "    </tr>\n",
       "    <tr>\n",
       "      <th>KS</th>\n",
       "      <td>Flint</td>\n",
       "    </tr>\n",
       "    <tr>\n",
       "      <th>KY</th>\n",
       "      <td>Greer</td>\n",
       "    </tr>\n",
       "    <tr>\n",
       "      <th>LA</th>\n",
       "      <td>Beaux</td>\n",
       "    </tr>\n",
       "    <tr>\n",
       "      <th>MA</th>\n",
       "      <td>Matheus</td>\n",
       "    </tr>\n",
       "    <tr>\n",
       "      <th>MD</th>\n",
       "      <td>Tavon</td>\n",
       "    </tr>\n",
       "    <tr>\n",
       "      <th>ME</th>\n",
       "      <td>Ryley</td>\n",
       "    </tr>\n",
       "    <tr>\n",
       "      <th>MI</th>\n",
       "      <td>Mohamad</td>\n",
       "    </tr>\n",
       "    <tr>\n",
       "      <th>MN</th>\n",
       "      <td>Abdullahi</td>\n",
       "    </tr>\n",
       "    <tr>\n",
       "      <th>MO</th>\n",
       "      <td>Blayne</td>\n",
       "    </tr>\n",
       "    <tr>\n",
       "      <th>MS</th>\n",
       "      <td>Bryston</td>\n",
       "    </tr>\n",
       "    <tr>\n",
       "      <th>MT</th>\n",
       "      <td>Kruze</td>\n",
       "    </tr>\n",
       "    <tr>\n",
       "      <th>NC</th>\n",
       "      <td>Zymir</td>\n",
       "    </tr>\n",
       "    <tr>\n",
       "      <th>ND</th>\n",
       "      <td>Bridger</td>\n",
       "    </tr>\n",
       "    <tr>\n",
       "      <th>NE</th>\n",
       "      <td>Beckam</td>\n",
       "    </tr>\n",
       "    <tr>\n",
       "      <th>NH</th>\n",
       "      <td>Davin</td>\n",
       "    </tr>\n",
       "    <tr>\n",
       "      <th>NJ</th>\n",
       "      <td>Tzvi</td>\n",
       "    </tr>\n",
       "    <tr>\n",
       "      <th>NM</th>\n",
       "      <td>Estevan</td>\n",
       "    </tr>\n",
       "    <tr>\n",
       "      <th>NV</th>\n",
       "      <td>Kenji</td>\n",
       "    </tr>\n",
       "    <tr>\n",
       "      <th>NY</th>\n",
       "      <td>Shimon</td>\n",
       "    </tr>\n",
       "    <tr>\n",
       "      <th>OH</th>\n",
       "      <td>Abdullahi</td>\n",
       "    </tr>\n",
       "    <tr>\n",
       "      <th>OK</th>\n",
       "      <td>Woodrow</td>\n",
       "    </tr>\n",
       "    <tr>\n",
       "      <th>OR</th>\n",
       "      <td>Danner</td>\n",
       "    </tr>\n",
       "    <tr>\n",
       "      <th>PA</th>\n",
       "      <td>Benuel</td>\n",
       "    </tr>\n",
       "    <tr>\n",
       "      <th>RI</th>\n",
       "      <td>Domenic</td>\n",
       "    </tr>\n",
       "    <tr>\n",
       "      <th>SC</th>\n",
       "      <td>Hampton</td>\n",
       "    </tr>\n",
       "    <tr>\n",
       "      <th>SD</th>\n",
       "      <td>Brecken</td>\n",
       "    </tr>\n",
       "    <tr>\n",
       "      <th>TN</th>\n",
       "      <td>Neyland</td>\n",
       "    </tr>\n",
       "    <tr>\n",
       "      <th>TX</th>\n",
       "      <td>Roel</td>\n",
       "    </tr>\n",
       "    <tr>\n",
       "      <th>UT</th>\n",
       "      <td>Cache</td>\n",
       "    </tr>\n",
       "    <tr>\n",
       "      <th>VA</th>\n",
       "      <td>Karon</td>\n",
       "    </tr>\n",
       "    <tr>\n",
       "      <th>VT</th>\n",
       "      <td>Wilder</td>\n",
       "    </tr>\n",
       "    <tr>\n",
       "      <th>WA</th>\n",
       "      <td>Artem</td>\n",
       "    </tr>\n",
       "    <tr>\n",
       "      <th>WI</th>\n",
       "      <td>Freeman</td>\n",
       "    </tr>\n",
       "    <tr>\n",
       "      <th>WV</th>\n",
       "      <td>Bryer</td>\n",
       "    </tr>\n",
       "    <tr>\n",
       "      <th>WY</th>\n",
       "      <td>Bridger</td>\n",
       "    </tr>\n",
       "  </tbody>\n",
       "</table>\n",
       "</div>"
      ],
      "text/plain": [
       "         Name\n",
       "AK     Paxson\n",
       "AL    Crimson\n",
       "AR       Rush\n",
       "AZ       Iram\n",
       "CA      Arley\n",
       "CO      Aziah\n",
       "CT       Remi\n",
       "DC      Nahom\n",
       "DE     Zyaire\n",
       "FL      Demir\n",
       "GA     Hutson\n",
       "HI    Kaimana\n",
       "IA    Kinnick\n",
       "ID     Taysom\n",
       "IL     Szymon\n",
       "IN       Bawi\n",
       "KS      Flint\n",
       "KY      Greer\n",
       "LA      Beaux\n",
       "MA    Matheus\n",
       "MD      Tavon\n",
       "ME      Ryley\n",
       "MI    Mohamad\n",
       "MN  Abdullahi\n",
       "MO     Blayne\n",
       "MS    Bryston\n",
       "MT      Kruze\n",
       "NC      Zymir\n",
       "ND    Bridger\n",
       "NE     Beckam\n",
       "NH      Davin\n",
       "NJ       Tzvi\n",
       "NM    Estevan\n",
       "NV      Kenji\n",
       "NY     Shimon\n",
       "OH  Abdullahi\n",
       "OK    Woodrow\n",
       "OR     Danner\n",
       "PA     Benuel\n",
       "RI    Domenic\n",
       "SC    Hampton\n",
       "SD    Brecken\n",
       "TN    Neyland\n",
       "TX       Roel\n",
       "UT      Cache\n",
       "VA      Karon\n",
       "VT     Wilder\n",
       "WA      Artem\n",
       "WI    Freeman\n",
       "WV      Bryer\n",
       "WY    Bridger"
      ]
     },
     "execution_count": 71,
     "metadata": {},
     "output_type": "execute_result"
    }
   ],
   "source": [
    "pd.DataFrame(scores_df.idxmax(axis=1), columns=[\"Name\"])"
   ]
  },
  {
   "cell_type": "markdown",
   "metadata": {},
   "source": [
    "It's likely that many of the names have some underlying connection to the state to which they are associated. The one association that stands out the most to me is that Crimson is an Alabama specific name. This is a clear indication of the love that people from Alabama have for the University of Alabama team known as \"The Crimson Tide\"."
   ]
  }
 ],
 "metadata": {
  "anaconda-cloud": {},
  "kernelspec": {
   "display_name": "Python 3",
   "language": "python",
   "name": "python3"
  },
  "language_info": {
   "codemirror_mode": {
    "name": "ipython",
    "version": 3
   },
   "file_extension": ".py",
   "mimetype": "text/x-python",
   "name": "python",
   "nbconvert_exporter": "python",
   "pygments_lexer": "ipython3",
   "version": "3.8.2"
  }
 },
 "nbformat": 4,
 "nbformat_minor": 2
}
